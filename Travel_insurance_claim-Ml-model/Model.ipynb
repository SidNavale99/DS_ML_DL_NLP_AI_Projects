{
 "cells": [
  {
   "cell_type": "code",
   "execution_count": 3,
   "metadata": {
    "id": "22NkFA7G6SPk"
   },
   "outputs": [],
   "source": [
    "import pandas as pd\n",
    "import numpy as np\n",
    "import pandas as pd\n",
    "import matplotlib.pyplot as plt\n",
    "import seaborn as sns\n",
    "\n",
    "import warnings\n",
    "warnings.filterwarnings('ignore')"
   ]
  },
  {
   "cell_type": "code",
   "execution_count": 4,
   "metadata": {
    "id": "f4Qc5IwL6121"
   },
   "outputs": [],
   "source": [
    "df=pd.read_csv('data.csv')"
   ]
  },
  {
   "cell_type": "code",
   "execution_count": 5,
   "metadata": {
    "colab": {
     "base_uri": "https://localhost:8080/",
     "height": 203
    },
    "id": "Qhr44rcn64fh",
    "outputId": "37f40664-d780-4c05-f913-d23e70f8b264"
   },
   "outputs": [
    {
     "data": {
      "text/html": [
       "<div>\n",
       "<style scoped>\n",
       "    .dataframe tbody tr th:only-of-type {\n",
       "        vertical-align: middle;\n",
       "    }\n",
       "\n",
       "    .dataframe tbody tr th {\n",
       "        vertical-align: top;\n",
       "    }\n",
       "\n",
       "    .dataframe thead th {\n",
       "        text-align: right;\n",
       "    }\n",
       "</style>\n",
       "<table border=\"1\" class=\"dataframe\">\n",
       "  <thead>\n",
       "    <tr style=\"text-align: right;\">\n",
       "      <th></th>\n",
       "      <th>ID</th>\n",
       "      <th>Agency</th>\n",
       "      <th>Agency Type</th>\n",
       "      <th>Distribution Channel</th>\n",
       "      <th>Product Name</th>\n",
       "      <th>Claim</th>\n",
       "      <th>Duration</th>\n",
       "      <th>Destination</th>\n",
       "      <th>Net Sales</th>\n",
       "      <th>Commision (in value)</th>\n",
       "      <th>Gender</th>\n",
       "      <th>Age</th>\n",
       "    </tr>\n",
       "  </thead>\n",
       "  <tbody>\n",
       "    <tr>\n",
       "      <th>0</th>\n",
       "      <td>3433</td>\n",
       "      <td>CWT</td>\n",
       "      <td>Travel Agency</td>\n",
       "      <td>Online</td>\n",
       "      <td>Rental Vehicle Excess Insurance</td>\n",
       "      <td>0</td>\n",
       "      <td>7</td>\n",
       "      <td>MALAYSIA</td>\n",
       "      <td>0.0</td>\n",
       "      <td>17.82</td>\n",
       "      <td>NaN</td>\n",
       "      <td>31</td>\n",
       "    </tr>\n",
       "    <tr>\n",
       "      <th>1</th>\n",
       "      <td>4339</td>\n",
       "      <td>EPX</td>\n",
       "      <td>Travel Agency</td>\n",
       "      <td>Online</td>\n",
       "      <td>Cancellation Plan</td>\n",
       "      <td>0</td>\n",
       "      <td>85</td>\n",
       "      <td>SINGAPORE</td>\n",
       "      <td>69.0</td>\n",
       "      <td>0.00</td>\n",
       "      <td>NaN</td>\n",
       "      <td>36</td>\n",
       "    </tr>\n",
       "    <tr>\n",
       "      <th>2</th>\n",
       "      <td>34590</td>\n",
       "      <td>CWT</td>\n",
       "      <td>Travel Agency</td>\n",
       "      <td>Online</td>\n",
       "      <td>Rental Vehicle Excess Insurance</td>\n",
       "      <td>0</td>\n",
       "      <td>11</td>\n",
       "      <td>MALAYSIA</td>\n",
       "      <td>19.8</td>\n",
       "      <td>11.88</td>\n",
       "      <td>NaN</td>\n",
       "      <td>75</td>\n",
       "    </tr>\n",
       "    <tr>\n",
       "      <th>3</th>\n",
       "      <td>55816</td>\n",
       "      <td>EPX</td>\n",
       "      <td>Travel Agency</td>\n",
       "      <td>Online</td>\n",
       "      <td>2 way Comprehensive Plan</td>\n",
       "      <td>0</td>\n",
       "      <td>16</td>\n",
       "      <td>INDONESIA</td>\n",
       "      <td>20.0</td>\n",
       "      <td>0.00</td>\n",
       "      <td>NaN</td>\n",
       "      <td>32</td>\n",
       "    </tr>\n",
       "    <tr>\n",
       "      <th>4</th>\n",
       "      <td>13816</td>\n",
       "      <td>EPX</td>\n",
       "      <td>Travel Agency</td>\n",
       "      <td>Online</td>\n",
       "      <td>Cancellation Plan</td>\n",
       "      <td>0</td>\n",
       "      <td>10</td>\n",
       "      <td>KOREA, REPUBLIC OF</td>\n",
       "      <td>15.0</td>\n",
       "      <td>0.00</td>\n",
       "      <td>NaN</td>\n",
       "      <td>29</td>\n",
       "    </tr>\n",
       "  </tbody>\n",
       "</table>\n",
       "</div>"
      ],
      "text/plain": [
       "      ID Agency    Agency Type Distribution Channel  \\\n",
       "0   3433    CWT  Travel Agency               Online   \n",
       "1   4339    EPX  Travel Agency               Online   \n",
       "2  34590    CWT  Travel Agency               Online   \n",
       "3  55816    EPX  Travel Agency               Online   \n",
       "4  13816    EPX  Travel Agency               Online   \n",
       "\n",
       "                      Product Name  Claim  Duration         Destination  \\\n",
       "0  Rental Vehicle Excess Insurance      0         7            MALAYSIA   \n",
       "1                Cancellation Plan      0        85           SINGAPORE   \n",
       "2  Rental Vehicle Excess Insurance      0        11            MALAYSIA   \n",
       "3         2 way Comprehensive Plan      0        16           INDONESIA   \n",
       "4                Cancellation Plan      0        10  KOREA, REPUBLIC OF   \n",
       "\n",
       "   Net Sales  Commision (in value) Gender  Age  \n",
       "0        0.0                 17.82    NaN   31  \n",
       "1       69.0                  0.00    NaN   36  \n",
       "2       19.8                 11.88    NaN   75  \n",
       "3       20.0                  0.00    NaN   32  \n",
       "4       15.0                  0.00    NaN   29  "
      ]
     },
     "execution_count": 5,
     "metadata": {},
     "output_type": "execute_result"
    }
   ],
   "source": [
    "df.head()"
   ]
  },
  {
   "cell_type": "code",
   "execution_count": 4,
   "metadata": {
    "colab": {
     "base_uri": "https://localhost:8080/"
    },
    "id": "Ow_oySqc6_yH",
    "outputId": "b7ca7b4b-1c12-4b0d-8076-1c697880eeca"
   },
   "outputs": [
    {
     "data": {
      "text/plain": [
       "(50553, 12)"
      ]
     },
     "execution_count": 4,
     "metadata": {},
     "output_type": "execute_result"
    }
   ],
   "source": [
    "df.shape"
   ]
  },
  {
   "cell_type": "markdown",
   "metadata": {
    "id": "BvhC37UI7N53"
   },
   "source": [
    "# Explore the Data"
   ]
  },
  {
   "cell_type": "code",
   "execution_count": 5,
   "metadata": {
    "colab": {
     "base_uri": "https://localhost:8080/"
    },
    "id": "tYZyO1yA7LLm",
    "outputId": "7c3cf8f8-1751-4788-b516-605518680aa0"
   },
   "outputs": [
    {
     "name": "stdout",
     "output_type": "stream",
     "text": [
      "<class 'pandas.core.frame.DataFrame'>\n",
      "RangeIndex: 50553 entries, 0 to 50552\n",
      "Data columns (total 12 columns):\n",
      " #   Column                Non-Null Count  Dtype  \n",
      "---  ------                --------------  -----  \n",
      " 0   ID                    50553 non-null  int64  \n",
      " 1   Agency                50553 non-null  object \n",
      " 2   Agency Type           50553 non-null  object \n",
      " 3   Distribution Channel  50553 non-null  object \n",
      " 4   Product Name          50553 non-null  object \n",
      " 5   Claim                 50553 non-null  int64  \n",
      " 6   Duration              50553 non-null  int64  \n",
      " 7   Destination           50553 non-null  object \n",
      " 8   Net Sales             50553 non-null  float64\n",
      " 9   Commision (in value)  50553 non-null  float64\n",
      " 10  Gender                14600 non-null  object \n",
      " 11  Age                   50553 non-null  int64  \n",
      "dtypes: float64(2), int64(4), object(6)\n",
      "memory usage: 4.6+ MB\n"
     ]
    }
   ],
   "source": [
    "df.info()"
   ]
  },
  {
   "cell_type": "markdown",
   "metadata": {
    "id": "6f8PQdcd7seE"
   },
   "source": [
    "### From the above list, we can see that there are 12 features, which include 5 numerical columns and 7 categorical columns. The dataset is of 50,553 samples, in which the Gender column has 14,600 samples, from that we understand that the Gender column have the large amount of missing values."
   ]
  },
  {
   "cell_type": "markdown",
   "metadata": {
    "id": "m4isp1Xk8Kwh"
   },
   "source": [
    "# Features description:\n",
    "\n",
    "### ID : customer ID\n",
    "### Agency: name of agency \n",
    "### Agency Type: type of travel agency\n",
    "### Distribution Channel: distribution channel of travel insurance agencies \n",
    "### Product Name: name of the insurance plan\n",
    "### Claim: if the insurance is claimed or not(0-not claimed, 1-claimed)\n",
    "### Duration: duration of the travel (days)\n",
    "### Destination: destination of travel\n",
    "### Net Sales: amount of sales of travel insurance policies\n",
    "### Commision (in value): commission received for travel insurance agency\n",
    "### Gender: gender of insurance buyer\n",
    "### Age: age of the insurance buyer"
   ]
  },
  {
   "cell_type": "markdown",
   "metadata": {
    "id": "Vwtw1SuA-BOP"
   },
   "source": [
    "------------------------------------------------------------------------------------------------------------------------------------------------"
   ]
  },
  {
   "cell_type": "markdown",
   "metadata": {
    "id": "sFutHRhB9uI7"
   },
   "source": [
    "1. ID is an unique value,so we can drop the ID column."
   ]
  },
  {
   "cell_type": "code",
   "execution_count": 6,
   "metadata": {
    "id": "XTFXc_SO7A-7"
   },
   "outputs": [],
   "source": [
    "df.drop(\"ID\", axis = 1, inplace = True)"
   ]
  },
  {
   "cell_type": "markdown",
   "metadata": {
    "id": "qnsxPxst-iLL"
   },
   "source": [
    "2. Summary statistics for the numerical attributes in the dataset"
   ]
  },
  {
   "cell_type": "code",
   "execution_count": 7,
   "metadata": {
    "colab": {
     "base_uri": "https://localhost:8080/",
     "height": 295
    },
    "id": "seWjReOW9ssc",
    "outputId": "bea67872-c919-46ae-9f72-b34bb4ae2676"
   },
   "outputs": [
    {
     "data": {
      "text/html": [
       "<div>\n",
       "<style scoped>\n",
       "    .dataframe tbody tr th:only-of-type {\n",
       "        vertical-align: middle;\n",
       "    }\n",
       "\n",
       "    .dataframe tbody tr th {\n",
       "        vertical-align: top;\n",
       "    }\n",
       "\n",
       "    .dataframe thead th {\n",
       "        text-align: right;\n",
       "    }\n",
       "</style>\n",
       "<table border=\"1\" class=\"dataframe\">\n",
       "  <thead>\n",
       "    <tr style=\"text-align: right;\">\n",
       "      <th></th>\n",
       "      <th>Claim</th>\n",
       "      <th>Duration</th>\n",
       "      <th>Net Sales</th>\n",
       "      <th>Commision (in value)</th>\n",
       "      <th>Age</th>\n",
       "    </tr>\n",
       "  </thead>\n",
       "  <tbody>\n",
       "    <tr>\n",
       "      <th>count</th>\n",
       "      <td>50553.000000</td>\n",
       "      <td>50553.000000</td>\n",
       "      <td>50553.000000</td>\n",
       "      <td>50553.00000</td>\n",
       "      <td>50553.000000</td>\n",
       "    </tr>\n",
       "    <tr>\n",
       "      <th>mean</th>\n",
       "      <td>0.014658</td>\n",
       "      <td>49.425969</td>\n",
       "      <td>40.800977</td>\n",
       "      <td>9.83809</td>\n",
       "      <td>40.011236</td>\n",
       "    </tr>\n",
       "    <tr>\n",
       "      <th>std</th>\n",
       "      <td>0.120180</td>\n",
       "      <td>101.434647</td>\n",
       "      <td>48.899683</td>\n",
       "      <td>19.91004</td>\n",
       "      <td>14.076566</td>\n",
       "    </tr>\n",
       "    <tr>\n",
       "      <th>min</th>\n",
       "      <td>0.000000</td>\n",
       "      <td>-2.000000</td>\n",
       "      <td>-389.000000</td>\n",
       "      <td>0.00000</td>\n",
       "      <td>0.000000</td>\n",
       "    </tr>\n",
       "    <tr>\n",
       "      <th>25%</th>\n",
       "      <td>0.000000</td>\n",
       "      <td>9.000000</td>\n",
       "      <td>18.000000</td>\n",
       "      <td>0.00000</td>\n",
       "      <td>35.000000</td>\n",
       "    </tr>\n",
       "    <tr>\n",
       "      <th>50%</th>\n",
       "      <td>0.000000</td>\n",
       "      <td>22.000000</td>\n",
       "      <td>26.500000</td>\n",
       "      <td>0.00000</td>\n",
       "      <td>36.000000</td>\n",
       "    </tr>\n",
       "    <tr>\n",
       "      <th>75%</th>\n",
       "      <td>0.000000</td>\n",
       "      <td>53.000000</td>\n",
       "      <td>48.000000</td>\n",
       "      <td>11.55000</td>\n",
       "      <td>44.000000</td>\n",
       "    </tr>\n",
       "    <tr>\n",
       "      <th>max</th>\n",
       "      <td>1.000000</td>\n",
       "      <td>4881.000000</td>\n",
       "      <td>810.000000</td>\n",
       "      <td>283.50000</td>\n",
       "      <td>118.000000</td>\n",
       "    </tr>\n",
       "  </tbody>\n",
       "</table>\n",
       "</div>"
      ],
      "text/plain": [
       "              Claim      Duration     Net Sales  Commision (in value)  \\\n",
       "count  50553.000000  50553.000000  50553.000000           50553.00000   \n",
       "mean       0.014658     49.425969     40.800977               9.83809   \n",
       "std        0.120180    101.434647     48.899683              19.91004   \n",
       "min        0.000000     -2.000000   -389.000000               0.00000   \n",
       "25%        0.000000      9.000000     18.000000               0.00000   \n",
       "50%        0.000000     22.000000     26.500000               0.00000   \n",
       "75%        0.000000     53.000000     48.000000              11.55000   \n",
       "max        1.000000   4881.000000    810.000000             283.50000   \n",
       "\n",
       "                Age  \n",
       "count  50553.000000  \n",
       "mean      40.011236  \n",
       "std       14.076566  \n",
       "min        0.000000  \n",
       "25%       35.000000  \n",
       "50%       36.000000  \n",
       "75%       44.000000  \n",
       "max      118.000000  "
      ]
     },
     "execution_count": 7,
     "metadata": {},
     "output_type": "execute_result"
    }
   ],
   "source": [
    "df.describe()"
   ]
  },
  {
   "cell_type": "markdown",
   "metadata": {
    "id": "a88gHEGC-0Ta"
   },
   "source": [
    "3. Taking an initial overview of the dataset, there seems to be some observations:<br>\n",
    "\n",
    "Age: The maximum Age is 118, which is highly unlikely to travel in that age and have insurance for travelling.<br>\n",
    "Duration: Trips cannot be lower than 0 as time cannot be negative.<br>\n",
    "Net Sales: Insurance price values can't be negative.<br>\n",
    "Commission: Commission values cannot be higher than insurance prices as commission must be worth less than the insurance price.<br>"
   ]
  },
  {
   "cell_type": "markdown",
   "metadata": {
    "id": "vMl1erkA_KcO"
   },
   "source": [
    "3.1  Looking at the agencies"
   ]
  },
  {
   "cell_type": "code",
   "execution_count": 8,
   "metadata": {
    "colab": {
     "base_uri": "https://localhost:8080/"
    },
    "id": "jdJHI5ph-o0V",
    "outputId": "3e5571ae-5ac6-412c-fa66-7bb216f62d72"
   },
   "outputs": [
    {
     "data": {
      "text/plain": [
       "EPX    28002\n",
       "CWT     6840\n",
       "C2B     6631\n",
       "JZI     5059\n",
       "SSI      839\n",
       "JWT      606\n",
       "RAB      571\n",
       "LWC      548\n",
       "TST      421\n",
       "KML      317\n",
       "ART      272\n",
       "CCR      158\n",
       "CBH       81\n",
       "TTW       77\n",
       "CSR       68\n",
       "ADM       63\n",
       "Name: Agency, dtype: int64"
      ]
     },
     "execution_count": 8,
     "metadata": {},
     "output_type": "execute_result"
    }
   ],
   "source": [
    "df[\"Agency\"].value_counts(dropna = False)"
   ]
  },
  {
   "cell_type": "markdown",
   "metadata": {
    "id": "kbKjxEnI_zAF"
   },
   "source": [
    "3.2 Looking at the different products that the travel insurance company offers "
   ]
  },
  {
   "cell_type": "code",
   "execution_count": 9,
   "metadata": {
    "colab": {
     "base_uri": "https://localhost:8080/"
    },
    "id": "Er5qJ5kT_YVB",
    "outputId": "da19e039-063b-45b2-c299-4a9a02a1cdf7"
   },
   "outputs": [
    {
     "data": {
      "text/plain": [
       "Cancellation Plan                       14872\n",
       "2 way Comprehensive Plan                10482\n",
       "Rental Vehicle Excess Insurance          6840\n",
       "Basic Plan                               4376\n",
       "Bronze Plan                              3246\n",
       "1 way Comprehensive Plan                 2648\n",
       "Value Plan                               2169\n",
       "Silver Plan                              1789\n",
       "Annual Silver Plan                       1156\n",
       "Ticket Protector                          839\n",
       "Travel Cruise Protect                     421\n",
       "Comprehensive Plan                        293\n",
       "Gold Plan                                 292\n",
       "24 Protect                                199\n",
       "Single Trip Travel Protect Gold           159\n",
       "Premier Plan                              158\n",
       "Annual Gold Plan                          148\n",
       "Single Trip Travel Protect Silver         133\n",
       "Annual Travel Protect Gold                 81\n",
       "Annual Travel Protect Silver               73\n",
       "Individual Comprehensive Plan              58\n",
       "Single Trip Travel Protect Platinum        57\n",
       "Annual Travel Protect Platinum             45\n",
       "Spouse or Parents Comprehensive Plan       12\n",
       "Child Comprehensive Plan                    7\n",
       "Name: Product Name, dtype: int64"
      ]
     },
     "execution_count": 9,
     "metadata": {},
     "output_type": "execute_result"
    }
   ],
   "source": [
    "df[\"Product Name\"].value_counts(dropna = False)"
   ]
  },
  {
   "cell_type": "markdown",
   "metadata": {
    "id": "90kdksJSBqj2"
   },
   "source": [
    "3.3 Looking at the destinations"
   ]
  },
  {
   "cell_type": "code",
   "execution_count": 10,
   "metadata": {
    "colab": {
     "base_uri": "https://localhost:8080/"
    },
    "id": "g04nzLw2__aR",
    "outputId": "22c82328-8766-40f6-e050-ab937411a57f"
   },
   "outputs": [
    {
     "data": {
      "text/plain": [
       "SINGAPORE                    10608\n",
       "MALAYSIA                      4747\n",
       "THAILAND                      4699\n",
       "CHINA                         3836\n",
       "AUSTRALIA                     2934\n",
       "                             ...  \n",
       "IRAN, ISLAMIC REPUBLIC OF        2\n",
       "NORTHERN MARIANA ISLANDS         1\n",
       "CAYMAN ISLANDS                   1\n",
       "TURKMENISTAN                     1\n",
       "BHUTAN                           1\n",
       "Name: Destination, Length: 102, dtype: int64"
      ]
     },
     "execution_count": 10,
     "metadata": {},
     "output_type": "execute_result"
    }
   ],
   "source": [
    "df[\"Destination\"].value_counts(dropna = False)"
   ]
  },
  {
   "cell_type": "markdown",
   "metadata": {
    "id": "LlPmcD4lB_4y"
   },
   "source": [
    "3.4  To see how balanced our target variable is\n"
   ]
  },
  {
   "cell_type": "code",
   "execution_count": 11,
   "metadata": {
    "colab": {
     "base_uri": "https://localhost:8080/"
    },
    "id": "0L1qv8W7Bz77",
    "outputId": "7ad7fa9a-5bcb-4cb9-bc30-41575aaece78"
   },
   "outputs": [
    {
     "data": {
      "text/plain": [
       "0    49812\n",
       "1      741\n",
       "Name: Claim, dtype: int64"
      ]
     },
     "execution_count": 11,
     "metadata": {},
     "output_type": "execute_result"
    }
   ],
   "source": [
    "df[\"Claim\"].value_counts(dropna = False)"
   ]
  },
  {
   "cell_type": "markdown",
   "metadata": {
    "id": "afHci2tpCpWm"
   },
   "source": [
    "# Visualising the Data"
   ]
  },
  {
   "cell_type": "code",
   "execution_count": 12,
   "metadata": {
    "colab": {
     "base_uri": "https://localhost:8080/",
     "height": 391
    },
    "id": "-YLyD8h5Cccn",
    "outputId": "c6ed7060-744c-49a6-a6b0-d6270eb96b2b"
   },
   "outputs": [
    {
     "data": {
      "image/png": "[encoded data removed]",
      "text/plain": [
       "<Figure size 864x432 with 2 Axes>"
      ]
     },
     "metadata": {
      "needs_background": "light"
     },
     "output_type": "display_data"
    }
   ],
   "source": [
    "plt.figure(figsize=(12,6))\n",
    "sns.heatmap(df.corr(),annot=True,cmap='seismic');\n",
    "\n",
    "# formatting axis labels\n",
    "plt.title(\"Correlation Matrix of Travel Insurance Data\", fontsize=14);"
   ]
  },
  {
   "cell_type": "markdown",
   "metadata": {
    "id": "mgRZWtShEFUD"
   },
   "source": [
    "From the above, we can say that there is no high correlation between any of the features."
   ]
  },
  {
   "cell_type": "code",
   "execution_count": 13,
   "metadata": {
    "colab": {
     "base_uri": "https://localhost:8080/",
     "height": 893
    },
    "id": "icno3z_KD2qt",
    "outputId": "cbd3f5db-7ab2-436f-cd5b-7585f188c458"
   },
   "outputs": [
    {
     "data": {
      "image/png": "[encoded data removed]",
      "text/plain": [
       "<Figure size 1080x1080 with 6 Axes>"
      ]
     },
     "metadata": {
      "needs_background": "light"
     },
     "output_type": "display_data"
    }
   ],
   "source": [
    "plt.figure(figsize=(15,15))\n",
    "\n",
    "plt.subplot2grid((2,3),(0,0))\n",
    "sns.countplot(data=df,x=\"Agency Type\")\n",
    "plt.title(\"Type of Agency\")\n",
    "\n",
    "plt.subplot2grid((2,3),(0,1))\n",
    "catdata=['Claim']\n",
    "# pandas plot pie plot \n",
    "for i in catdata:\n",
    "    df[i].value_counts().plot.pie(autopct=\"%1.2f%%\")\n",
    "    plt.title(\"Insurance claimed\", )\n",
    "\n",
    "\n",
    "plt.subplot2grid((2,3),(0,2))\n",
    "sns.barplot(x=\"Net Sales\",y='Agency',data=df)\n",
    "plt.title(\"Net Sale as per agency\" )\n",
    "\n",
    "\n",
    "plt.subplot2grid((2,3),(1,0))\n",
    "sns.barplot(x=\"Claim\",y='Age',data=df)\n",
    "plt.title(\"Insurance claimed as per age\" )\n",
    "\n",
    "\n",
    "plt.subplot2grid((2,3),(1,1))\n",
    "sns.barplot(x='Distribution Channel',y=\"Claim\",data=df)\n",
    "plt.title(\"Insurance claimed as per duration channel\" )\n",
    "\n",
    "\n",
    "plt.subplot2grid((2,3),(1,2))\n",
    "sns.barplot(x=\"Distribution Channel\",y='Commision (in value)',data=df)\n",
    "plt.title(\"Commision as per duration channel\" )\n",
    "\n",
    "plt.show()"
   ]
  },
  {
   "cell_type": "markdown",
   "metadata": {
    "id": "N8bf7SuzJUL_"
   },
   "source": [
    "Finding the agencies with the  amount of claims\n"
   ]
  },
  {
   "cell_type": "code",
   "execution_count": 18,
   "metadata": {
    "colab": {
     "base_uri": "https://localhost:8080/",
     "height": 325
    },
    "id": "kek__jyoEw8U",
    "outputId": "5774e8ba-1c26-4635-c00d-4a6a321eda5b"
   },
   "outputs": [
    {
     "data": {
      "text/plain": [
       "Text(0.5, 1.0, 'Distribution of Claims in Agencies')"
      ]
     },
     "execution_count": 18,
     "metadata": {},
     "output_type": "execute_result"
    },
    {
     "data": {
      "text/plain": [
       "<Figure size 1440x1080 with 0 Axes>"
      ]
     },
     "metadata": {},
     "output_type": "display_data"
    },
    {
     "data": {
      "image/png": "[encoded data removed]",
      "text/plain": [
       "<Figure size 432x288 with 1 Axes>"
      ]
     },
     "metadata": {
      "needs_background": "light"
     },
     "output_type": "display_data"
    }
   ],
   "source": [
    "\n",
    "agencies=pd.crosstab(df[\"Agency\"],df[\"Claim\"])\n",
    "\n",
    "# look at the top 10 agencies with the most claims\n",
    "top_agencies=(agencies.sort_values(by=[0],ascending=False)).head(10)\n",
    "\n",
    "# formatting the axes and labels\n",
    "\n",
    "top_agencies.plot(kind=\"bar\");\n",
    "plt.xlabel(\"Agency\"); plt.ylabel(\"Amount of Claims\")\n",
    "plt.title(\"Distribution of Claims in Agencies\")\n",
    "\n",
    "# we can clearly see that there are claims made for the agency EPX and C2B."
   ]
  },
  {
   "cell_type": "markdown",
   "metadata": {
    "id": "bzuiV5-BKnjK"
   },
   "source": [
    "Destination<br>\n",
    "Here, we want to see if destination stands out as having more claims in one country compared to other countries."
   ]
  },
  {
   "cell_type": "code",
   "execution_count": null,
   "metadata": {
    "colab": {
     "base_uri": "https://localhost:8080/",
     "height": 391
    },
    "id": "yeRODHjwJEez",
    "outputId": "05240a18-9cfe-43b4-ff3a-e6f553a464c6"
   },
   "outputs": [
    {
     "data": {
      "image/png": "[encoded data removed]",
      "text/plain": [
       "<Figure size 432x288 with 1 Axes>"
      ]
     },
     "metadata": {
      "tags": []
     },
     "output_type": "display_data"
    }
   ],
   "source": [
    "# looking at the top destinations that have the most claims\n",
    "\n",
    "destinations=pd.crosstab(df[\"Destination\"],df[\"Claim\"])\n",
    "\n",
    "# let's look at the top 15 destinations with the most claims\n",
    "top_destinations=(destinations.sort_values(by=[1],ascending=False)).head(15)\n",
    "\n",
    "# formatting the axes and labels\n",
    "top_destinations.plot.bar(stacked=True)\n",
    "plt.legend(title='Claim')\n",
    "plt.xlabel(\"Desination\"); plt.ylabel(\"Number of Claims\")\n",
    "plt.title(\"Distrbution of Claims in Countries\")\n",
    "\n",
    "# show the graph\n",
    "plt.show()"
   ]
  },
  {
   "cell_type": "markdown",
   "metadata": {
    "id": "WMuyXiiAM6-j"
   },
   "source": [
    "AGE<br>\n",
    "boxplot to see the distribution of age on claims"
   ]
  },
  {
   "cell_type": "code",
   "execution_count": null,
   "metadata": {
    "colab": {
     "base_uri": "https://localhost:8080/",
     "height": 412
    },
    "id": "cylwm210K9pA",
    "outputId": "269f9519-fc22-47ef-c94c-b8d1f5fa8bb7"
   },
   "outputs": [
    {
     "data": {
      "image/png": "[encoded data removed]",
      "text/plain": [
       "<Figure size 864x432 with 1 Axes>"
      ]
     },
     "metadata": {
      "tags": []
     },
     "output_type": "display_data"
    }
   ],
   "source": [
    "# enlarging the graph\n",
    "plt.figure(figsize = (12, 6));\n",
    "\n",
    "\n",
    "a = sns.boxplot(y='Age', x='Claim',data=df,palette=\"colorblind\");\n",
    "\n",
    "# The box plot represents the distribution of ages for each \"Yes\" or \"No\" claim\n",
    "\n",
    "# changing graph title\n",
    "a.axes.set_title(\"Distribution of Age\",fontsize=15);\n",
    "plt.xticks(fontsize=13);\n",
    "plt.yticks(fontsize=13);\n",
    "\n",
    "# adding axes labels\n",
    "a.set_ylabel(\"Age\",fontsize=13);\n",
    "a.set_xlabel(\"Claim\",fontsize=13);\n",
    "\n",
    "# we can clearly see that there is an outlier here of age 118"
   ]
  },
  {
   "cell_type": "markdown",
   "metadata": {
    "id": "DyrlIGInNT3k"
   },
   "source": [
    "# Prepare the Data"
   ]
  },
  {
   "cell_type": "markdown",
   "metadata": {
    "id": "9SYutNj7NW6y"
   },
   "source": [
    "## 1.Data Cleaning"
   ]
  },
  {
   "cell_type": "markdown",
   "metadata": {
    "id": "mID_Iu3JNjKj"
   },
   "source": [
    "***Gender***"
   ]
  },
  {
   "cell_type": "code",
   "execution_count": null,
   "metadata": {
    "colab": {
     "base_uri": "https://localhost:8080/"
    },
    "id": "dfvmj7NGNMRG",
    "outputId": "d663aef8-139d-4681-f6fb-ecd140f32813"
   },
   "outputs": [
    {
     "data": {
      "text/plain": [
       "71.12"
      ]
     },
     "execution_count": 66,
     "metadata": {
      "tags": []
     },
     "output_type": "execute_result"
    }
   ],
   "source": [
    "# Checking the weightage of null values.\n",
    "\n",
    "(df['Gender'].isnull().sum()/df.shape[0]*100).round(2)"
   ]
  },
  {
   "cell_type": "markdown",
   "metadata": {
    "id": "VFp5tBDeN9So"
   },
   "source": [
    "From the above, it's clear that more then 70% of the data have missing values in the Gender column and there are no other features that will help us find out whether the individual is male or female. Therefore, we decided to drop the feature."
   ]
  },
  {
   "cell_type": "code",
   "execution_count": null,
   "metadata": {
    "id": "jvUkYVx_Npva"
   },
   "outputs": [],
   "source": [
    "# drop the 'Gender' column since there are too many missing values \n",
    "df.drop(['Gender'], axis=1, inplace=True)"
   ]
  },
  {
   "cell_type": "markdown",
   "metadata": {
    "id": "p4Xmg-6BOXPr"
   },
   "source": [
    "Renaming the columns (removing the column space)"
   ]
  },
  {
   "cell_type": "code",
   "execution_count": null,
   "metadata": {
    "colab": {
     "base_uri": "https://localhost:8080/",
     "height": 203
    },
    "id": "5OK4iGvROQcH",
    "outputId": "49a1c599-39f4-4a09-a326-88124ed020ef"
   },
   "outputs": [
    {
     "data": {
      "text/html": [
       "<div>\n",
       "<style scoped>\n",
       "    .dataframe tbody tr th:only-of-type {\n",
       "        vertical-align: middle;\n",
       "    }\n",
       "\n",
       "    .dataframe tbody tr th {\n",
       "        vertical-align: top;\n",
       "    }\n",
       "\n",
       "    .dataframe thead th {\n",
       "        text-align: right;\n",
       "    }\n",
       "</style>\n",
       "<table border=\"1\" class=\"dataframe\">\n",
       "  <thead>\n",
       "    <tr style=\"text-align: right;\">\n",
       "      <th></th>\n",
       "      <th>Agency</th>\n",
       "      <th>Agency_Type</th>\n",
       "      <th>Distribution_Channel</th>\n",
       "      <th>Product_Name</th>\n",
       "      <th>Claim</th>\n",
       "      <th>Duration</th>\n",
       "      <th>Destination</th>\n",
       "      <th>Net_Sales</th>\n",
       "      <th>Commision</th>\n",
       "      <th>Age</th>\n",
       "    </tr>\n",
       "  </thead>\n",
       "  <tbody>\n",
       "    <tr>\n",
       "      <th>0</th>\n",
       "      <td>CWT</td>\n",
       "      <td>Travel Agency</td>\n",
       "      <td>Online</td>\n",
       "      <td>Rental Vehicle Excess Insurance</td>\n",
       "      <td>0</td>\n",
       "      <td>7</td>\n",
       "      <td>MALAYSIA</td>\n",
       "      <td>0.0</td>\n",
       "      <td>17.82</td>\n",
       "      <td>31</td>\n",
       "    </tr>\n",
       "    <tr>\n",
       "      <th>1</th>\n",
       "      <td>EPX</td>\n",
       "      <td>Travel Agency</td>\n",
       "      <td>Online</td>\n",
       "      <td>Cancellation Plan</td>\n",
       "      <td>0</td>\n",
       "      <td>85</td>\n",
       "      <td>SINGAPORE</td>\n",
       "      <td>69.0</td>\n",
       "      <td>0.00</td>\n",
       "      <td>36</td>\n",
       "    </tr>\n",
       "    <tr>\n",
       "      <th>2</th>\n",
       "      <td>CWT</td>\n",
       "      <td>Travel Agency</td>\n",
       "      <td>Online</td>\n",
       "      <td>Rental Vehicle Excess Insurance</td>\n",
       "      <td>0</td>\n",
       "      <td>11</td>\n",
       "      <td>MALAYSIA</td>\n",
       "      <td>19.8</td>\n",
       "      <td>11.88</td>\n",
       "      <td>75</td>\n",
       "    </tr>\n",
       "    <tr>\n",
       "      <th>3</th>\n",
       "      <td>EPX</td>\n",
       "      <td>Travel Agency</td>\n",
       "      <td>Online</td>\n",
       "      <td>2 way Comprehensive Plan</td>\n",
       "      <td>0</td>\n",
       "      <td>16</td>\n",
       "      <td>INDONESIA</td>\n",
       "      <td>20.0</td>\n",
       "      <td>0.00</td>\n",
       "      <td>32</td>\n",
       "    </tr>\n",
       "    <tr>\n",
       "      <th>4</th>\n",
       "      <td>EPX</td>\n",
       "      <td>Travel Agency</td>\n",
       "      <td>Online</td>\n",
       "      <td>Cancellation Plan</td>\n",
       "      <td>0</td>\n",
       "      <td>10</td>\n",
       "      <td>KOREA, REPUBLIC OF</td>\n",
       "      <td>15.0</td>\n",
       "      <td>0.00</td>\n",
       "      <td>29</td>\n",
       "    </tr>\n",
       "  </tbody>\n",
       "</table>\n",
       "</div>"
      ],
      "text/plain": [
       "  Agency    Agency_Type Distribution_Channel  ... Net_Sales  Commision  Age\n",
       "0    CWT  Travel Agency               Online  ...       0.0      17.82   31\n",
       "1    EPX  Travel Agency               Online  ...      69.0       0.00   36\n",
       "2    CWT  Travel Agency               Online  ...      19.8      11.88   75\n",
       "3    EPX  Travel Agency               Online  ...      20.0       0.00   32\n",
       "4    EPX  Travel Agency               Online  ...      15.0       0.00   29\n",
       "\n",
       "[5 rows x 10 columns]"
      ]
     },
     "execution_count": 68,
     "metadata": {
      "tags": []
     },
     "output_type": "execute_result"
    }
   ],
   "source": [
    "df.rename(columns={'Agency Type':'Agency_Type','Distribution Channel':'Distribution_Channel',\n",
    "                         'Product Name':'Product_Name','Net Sales':'Net_Sales',\n",
    "                         'Commision (in value)':'Commision'},inplace=True)\n",
    "df.head()"
   ]
  },
  {
   "cell_type": "markdown",
   "metadata": {
    "id": "4TiTYefzOoMo"
   },
   "source": [
    "***Net Sales & Commision***<br>\n",
    "Intuitavely, it doesn't make sense to have Net Sales values that are below 0."
   ]
  },
  {
   "cell_type": "code",
   "execution_count": null,
   "metadata": {
    "colab": {
     "base_uri": "https://localhost:8080/"
    },
    "id": "NndKoRQWwRBK",
    "outputId": "8f3ebf18-f028-41cc-f4bd-6697e48f3672"
   },
   "outputs": [
    {
     "data": {
      "text/plain": [
       "528"
      ]
     },
     "execution_count": 69,
     "metadata": {
      "tags": []
     },
     "output_type": "execute_result"
    }
   ],
   "source": [
    "# check if there are any net sales values that are below 0\n",
    "df[df['Net_Sales']<0].Net_Sales.count()"
   ]
  },
  {
   "cell_type": "code",
   "execution_count": null,
   "metadata": {
    "id": "LUnhQfnvT3iO"
   },
   "outputs": [],
   "source": [
    "# net sales values below 0 could be miscoded\n",
    "# changing negative net sales values to positive values \n",
    "\n",
    "df['Net_Sales'] = df['Net_Sales'].abs()"
   ]
  },
  {
   "cell_type": "code",
   "execution_count": null,
   "metadata": {
    "colab": {
     "base_uri": "https://localhost:8080/",
     "height": 417
    },
    "id": "NcwTs_3dTuHZ",
    "outputId": "a955bc85-5ecf-4294-a845-2f96b20496fe"
   },
   "outputs": [
    {
     "data": {
      "text/html": [
       "<div>\n",
       "<style scoped>\n",
       "    .dataframe tbody tr th:only-of-type {\n",
       "        vertical-align: middle;\n",
       "    }\n",
       "\n",
       "    .dataframe tbody tr th {\n",
       "        vertical-align: top;\n",
       "    }\n",
       "\n",
       "    .dataframe thead th {\n",
       "        text-align: right;\n",
       "    }\n",
       "</style>\n",
       "<table border=\"1\" class=\"dataframe\">\n",
       "  <thead>\n",
       "    <tr style=\"text-align: right;\">\n",
       "      <th></th>\n",
       "      <th>Agency</th>\n",
       "      <th>Agency_Type</th>\n",
       "      <th>Distribution_Channel</th>\n",
       "      <th>Product_Name</th>\n",
       "      <th>Claim</th>\n",
       "      <th>Duration</th>\n",
       "      <th>Destination</th>\n",
       "      <th>Net_Sales</th>\n",
       "      <th>Commision</th>\n",
       "      <th>Age</th>\n",
       "    </tr>\n",
       "  </thead>\n",
       "  <tbody>\n",
       "    <tr>\n",
       "      <th>0</th>\n",
       "      <td>CWT</td>\n",
       "      <td>Travel Agency</td>\n",
       "      <td>Online</td>\n",
       "      <td>Rental Vehicle Excess Insurance</td>\n",
       "      <td>0</td>\n",
       "      <td>7</td>\n",
       "      <td>MALAYSIA</td>\n",
       "      <td>0.0</td>\n",
       "      <td>17.82</td>\n",
       "      <td>31</td>\n",
       "    </tr>\n",
       "    <tr>\n",
       "      <th>19</th>\n",
       "      <td>CWT</td>\n",
       "      <td>Travel Agency</td>\n",
       "      <td>Online</td>\n",
       "      <td>Rental Vehicle Excess Insurance</td>\n",
       "      <td>0</td>\n",
       "      <td>140</td>\n",
       "      <td>SPAIN</td>\n",
       "      <td>0.0</td>\n",
       "      <td>23.76</td>\n",
       "      <td>31</td>\n",
       "    </tr>\n",
       "    <tr>\n",
       "      <th>53</th>\n",
       "      <td>CWT</td>\n",
       "      <td>Travel Agency</td>\n",
       "      <td>Online</td>\n",
       "      <td>Rental Vehicle Excess Insurance</td>\n",
       "      <td>0</td>\n",
       "      <td>28</td>\n",
       "      <td>NORWAY</td>\n",
       "      <td>0.0</td>\n",
       "      <td>41.58</td>\n",
       "      <td>58</td>\n",
       "    </tr>\n",
       "    <tr>\n",
       "      <th>192</th>\n",
       "      <td>CWT</td>\n",
       "      <td>Travel Agency</td>\n",
       "      <td>Online</td>\n",
       "      <td>Rental Vehicle Excess Insurance</td>\n",
       "      <td>0</td>\n",
       "      <td>307</td>\n",
       "      <td>NEW ZEALAND</td>\n",
       "      <td>0.0</td>\n",
       "      <td>47.52</td>\n",
       "      <td>55</td>\n",
       "    </tr>\n",
       "    <tr>\n",
       "      <th>207</th>\n",
       "      <td>CWT</td>\n",
       "      <td>Travel Agency</td>\n",
       "      <td>Online</td>\n",
       "      <td>Rental Vehicle Excess Insurance</td>\n",
       "      <td>0</td>\n",
       "      <td>166</td>\n",
       "      <td>ICELAND</td>\n",
       "      <td>0.0</td>\n",
       "      <td>65.34</td>\n",
       "      <td>42</td>\n",
       "    </tr>\n",
       "    <tr>\n",
       "      <th>...</th>\n",
       "      <td>...</td>\n",
       "      <td>...</td>\n",
       "      <td>...</td>\n",
       "      <td>...</td>\n",
       "      <td>...</td>\n",
       "      <td>...</td>\n",
       "      <td>...</td>\n",
       "      <td>...</td>\n",
       "      <td>...</td>\n",
       "      <td>...</td>\n",
       "    </tr>\n",
       "    <tr>\n",
       "      <th>50306</th>\n",
       "      <td>CWT</td>\n",
       "      <td>Travel Agency</td>\n",
       "      <td>Online</td>\n",
       "      <td>Rental Vehicle Excess Insurance</td>\n",
       "      <td>0</td>\n",
       "      <td>29</td>\n",
       "      <td>AUSTRALIA</td>\n",
       "      <td>0.0</td>\n",
       "      <td>65.34</td>\n",
       "      <td>30</td>\n",
       "    </tr>\n",
       "    <tr>\n",
       "      <th>50371</th>\n",
       "      <td>CWT</td>\n",
       "      <td>Travel Agency</td>\n",
       "      <td>Online</td>\n",
       "      <td>Rental Vehicle Excess Insurance</td>\n",
       "      <td>0</td>\n",
       "      <td>5</td>\n",
       "      <td>UNITED KINGDOM</td>\n",
       "      <td>0.0</td>\n",
       "      <td>5.94</td>\n",
       "      <td>31</td>\n",
       "    </tr>\n",
       "    <tr>\n",
       "      <th>50456</th>\n",
       "      <td>CWT</td>\n",
       "      <td>Travel Agency</td>\n",
       "      <td>Online</td>\n",
       "      <td>Rental Vehicle Excess Insurance</td>\n",
       "      <td>0</td>\n",
       "      <td>36</td>\n",
       "      <td>UNITED KINGDOM</td>\n",
       "      <td>0.0</td>\n",
       "      <td>166.32</td>\n",
       "      <td>46</td>\n",
       "    </tr>\n",
       "    <tr>\n",
       "      <th>50460</th>\n",
       "      <td>CWT</td>\n",
       "      <td>Travel Agency</td>\n",
       "      <td>Online</td>\n",
       "      <td>Rental Vehicle Excess Insurance</td>\n",
       "      <td>0</td>\n",
       "      <td>14</td>\n",
       "      <td>THAILAND</td>\n",
       "      <td>0.0</td>\n",
       "      <td>11.88</td>\n",
       "      <td>50</td>\n",
       "    </tr>\n",
       "    <tr>\n",
       "      <th>50480</th>\n",
       "      <td>JZI</td>\n",
       "      <td>Airlines</td>\n",
       "      <td>Online</td>\n",
       "      <td>Basic Plan</td>\n",
       "      <td>0</td>\n",
       "      <td>45</td>\n",
       "      <td>JAPAN</td>\n",
       "      <td>0.0</td>\n",
       "      <td>12.25</td>\n",
       "      <td>30</td>\n",
       "    </tr>\n",
       "  </tbody>\n",
       "</table>\n",
       "<p>1070 rows × 10 columns</p>\n",
       "</div>"
      ],
      "text/plain": [
       "      Agency    Agency_Type Distribution_Channel  ... Net_Sales  Commision  Age\n",
       "0        CWT  Travel Agency               Online  ...       0.0      17.82   31\n",
       "19       CWT  Travel Agency               Online  ...       0.0      23.76   31\n",
       "53       CWT  Travel Agency               Online  ...       0.0      41.58   58\n",
       "192      CWT  Travel Agency               Online  ...       0.0      47.52   55\n",
       "207      CWT  Travel Agency               Online  ...       0.0      65.34   42\n",
       "...      ...            ...                  ...  ...       ...        ...  ...\n",
       "50306    CWT  Travel Agency               Online  ...       0.0      65.34   30\n",
       "50371    CWT  Travel Agency               Online  ...       0.0       5.94   31\n",
       "50456    CWT  Travel Agency               Online  ...       0.0     166.32   46\n",
       "50460    CWT  Travel Agency               Online  ...       0.0      11.88   50\n",
       "50480    JZI       Airlines               Online  ...       0.0      12.25   30\n",
       "\n",
       "[1070 rows x 10 columns]"
      ]
     },
     "execution_count": 71,
     "metadata": {
      "tags": []
     },
     "output_type": "execute_result"
    }
   ],
   "source": [
    "# it doesn't make sense for Net Sales to be smaller than Commission as commission is usually represented by a function of net sales.\n",
    "# check how many net sales values are smaller than commission\n",
    "\n",
    "df[df['Net_Sales']<df['Commision']]"
   ]
  },
  {
   "cell_type": "code",
   "execution_count": null,
   "metadata": {
    "id": "Uk5TiOXoO-JD"
   },
   "outputs": [],
   "source": [
    "# to fix this, we will fill Net Sales with 0 value with 0 commision\n",
    "\n",
    "df.loc[df['Net_Sales']<=0]=df['Commision'].min()"
   ]
  },
  {
   "cell_type": "code",
   "execution_count": null,
   "metadata": {
    "colab": {
     "base_uri": "https://localhost:8080/"
    },
    "id": "qpbzyNZOTFZU",
    "outputId": "4c1fcb58-f12d-4eac-cf04-e3ff00650c49"
   },
   "outputs": [
    {
     "data": {
      "text/plain": [
       "0"
      ]
     },
     "execution_count": 73,
     "metadata": {
      "tags": []
     },
     "output_type": "execute_result"
    }
   ],
   "source": [
    "# to check there are no values of commission that are above net sales\n",
    "len(df[df['Net_Sales']<df['Commision']])"
   ]
  },
  {
   "cell_type": "markdown",
   "metadata": {
    "id": "aDY5Pe7xUZbS"
   },
   "source": [
    "***Duration***\n"
   ]
  },
  {
   "cell_type": "code",
   "execution_count": null,
   "metadata": {
    "colab": {
     "base_uri": "https://localhost:8080/"
    },
    "id": "ey2HiINqTMrh",
    "outputId": "d52a1a6a-3c38-44ef-d3e2-7463a8be9707"
   },
   "outputs": [
    {
     "data": {
      "text/plain": [
       "1545"
      ]
     },
     "execution_count": 74,
     "metadata": {
      "tags": []
     },
     "output_type": "execute_result"
    }
   ],
   "source": [
    "# the skewness of the duration values is important as time can't be negative.\n",
    "# checking the amount of duration values which are negative\n",
    "df[(df['Duration'] <= 0)].Duration.count()"
   ]
  },
  {
   "cell_type": "code",
   "execution_count": null,
   "metadata": {
    "colab": {
     "base_uri": "https://localhost:8080/"
    },
    "id": "djkrUMApUkaR",
    "outputId": "0873f49d-93ce-4867-a745-bcbb27dc97bc"
   },
   "outputs": [
    {
     "data": {
      "text/plain": [
       "Agency                  1545\n",
       "Agency_Type             1545\n",
       "Distribution_Channel    1545\n",
       "Product_Name            1545\n",
       "Claim                   1545\n",
       "Duration                1545\n",
       "Destination             1545\n",
       "Net_Sales               1545\n",
       "Commision               1545\n",
       "Age                     1545\n",
       "dtype: int64"
      ]
     },
     "execution_count": 75,
     "metadata": {
      "tags": []
     },
     "output_type": "execute_result"
    }
   ],
   "source": [
    "# checking the amount of duration values below 0 is coming from majority class 0\n",
    "\n",
    "df[(df['Duration'] <= 0) & (df['Claim'] == 0)].count()"
   ]
  },
  {
   "cell_type": "code",
   "execution_count": null,
   "metadata": {
    "id": "vRZCjjuRU4OS"
   },
   "outputs": [],
   "source": [
    "# as the majority of the Duration <0 is in the majority claim, we can drop these samples\n",
    "# removing all values where Duration is below 0\n",
    "\n",
    "# get names of indexes for rows where Duration has value <= 0\n",
    "index_names = df[(df['Duration'] <= 0)].index \n",
    "  \n",
    "# drop these given rows \n",
    "df.drop(index_names, inplace = True)"
   ]
  },
  {
   "cell_type": "code",
   "execution_count": null,
   "metadata": {
    "colab": {
     "base_uri": "https://localhost:8080/"
    },
    "id": "40M9u9T5VS_k",
    "outputId": "33ca90b3-7188-4ca3-cc61-b0fb9a18daab"
   },
   "outputs": [
    {
     "data": {
      "text/plain": [
       "Agency                  0\n",
       "Agency_Type             0\n",
       "Distribution_Channel    0\n",
       "Product_Name            0\n",
       "Claim                   0\n",
       "Duration                0\n",
       "Destination             0\n",
       "Net_Sales               0\n",
       "Commision               0\n",
       "Age                     0\n",
       "dtype: int64"
      ]
     },
     "execution_count": 77,
     "metadata": {
      "tags": []
     },
     "output_type": "execute_result"
    }
   ],
   "source": [
    "# check if all the values containing duration <0 have been removed\n",
    "\n",
    "df[df['Duration']<=0].count()"
   ]
  },
  {
   "cell_type": "markdown",
   "metadata": {
    "id": "sY8uz7KOVkYQ"
   },
   "source": [
    "***Age***"
   ]
  },
  {
   "cell_type": "code",
   "execution_count": null,
   "metadata": {
    "colab": {
     "base_uri": "https://localhost:8080/"
    },
    "id": "Tm8SUL3XVegW",
    "outputId": "9b2c5761-fa3b-47e4-f4b6-11483c77d451"
   },
   "outputs": [
    {
     "data": {
      "text/plain": [
       "757"
      ]
     },
     "execution_count": 78,
     "metadata": {
      "tags": []
     },
     "output_type": "execute_result"
    }
   ],
   "source": [
    "# impossible to give insurance to a person over age of 100.\n",
    "# checking the amount of age values above 100 \n",
    "\n",
    "df[df['Age'] >= 100].Age.count()"
   ]
  },
  {
   "cell_type": "code",
   "execution_count": null,
   "metadata": {
    "id": "doC6-fPTVsqD"
   },
   "outputs": [],
   "source": [
    "# get names of indexes for rows where Age >=100\n",
    "index_names = df[(df['Age'] >= 100)].index \n",
    "  \n",
    "# drop these given rows \n",
    "df.drop(index_names, inplace = True)"
   ]
  },
  {
   "cell_type": "code",
   "execution_count": null,
   "metadata": {
    "colab": {
     "base_uri": "https://localhost:8080/"
    },
    "id": "8-s5qg0_V8Ay",
    "outputId": "b28c5a40-0f9e-4ae9-ccee-f1d2b62c5e7d"
   },
   "outputs": [
    {
     "name": "stdout",
     "output_type": "stream",
     "text": [
      "<class 'pandas.core.frame.DataFrame'>\n",
      "Int64Index: 48251 entries, 1 to 50552\n",
      "Data columns (total 10 columns):\n",
      " #   Column                Non-Null Count  Dtype  \n",
      "---  ------                --------------  -----  \n",
      " 0   Agency                48251 non-null  object \n",
      " 1   Agency_Type           48251 non-null  object \n",
      " 2   Distribution_Channel  48251 non-null  object \n",
      " 3   Product_Name          48251 non-null  object \n",
      " 4   Claim                 48251 non-null  int64  \n",
      " 5   Duration              48251 non-null  int64  \n",
      " 6   Destination           48251 non-null  object \n",
      " 7   Net_Sales             48251 non-null  float64\n",
      " 8   Commision             48251 non-null  float64\n",
      " 9   Age                   48251 non-null  int64  \n",
      "dtypes: float64(2), int64(3), object(5)\n",
      "memory usage: 4.0+ MB\n"
     ]
    }
   ],
   "source": [
    "# check the amount of variables we have after cleaning the data\n",
    "df.info()"
   ]
  },
  {
   "cell_type": "markdown",
   "metadata": {
    "id": "x9rQX3MdWdoi"
   },
   "source": [
    "#  Feature Encoding"
   ]
  },
  {
   "cell_type": "markdown",
   "metadata": {
    "id": "tJPf05VwWiT-"
   },
   "source": [
    "It is important for all the values in the dataset to be numerical so that the machine learning models can run. To encode the categoorical features, we use the pandas get_dummies method to transform the categorical features into dummy variables."
   ]
  },
  {
   "cell_type": "code",
   "execution_count": null,
   "metadata": {
    "colab": {
     "base_uri": "https://localhost:8080/",
     "height": 302
    },
    "id": "JglFVcu1WFGF",
    "outputId": "119ddd90-a820-4443-c51f-f5f63ea28e1c"
   },
   "outputs": [
    {
     "data": {
      "text/html": [
       "<div>\n",
       "<style scoped>\n",
       "    .dataframe tbody tr th:only-of-type {\n",
       "        vertical-align: middle;\n",
       "    }\n",
       "\n",
       "    .dataframe tbody tr th {\n",
       "        vertical-align: top;\n",
       "    }\n",
       "\n",
       "    .dataframe thead th {\n",
       "        text-align: right;\n",
       "    }\n",
       "</style>\n",
       "<table border=\"1\" class=\"dataframe\">\n",
       "  <thead>\n",
       "    <tr style=\"text-align: right;\">\n",
       "      <th></th>\n",
       "      <th>Claim</th>\n",
       "      <th>Duration</th>\n",
       "      <th>Net_Sales</th>\n",
       "      <th>Commision</th>\n",
       "      <th>Age</th>\n",
       "      <th>Agency_ADM</th>\n",
       "      <th>Agency_ART</th>\n",
       "      <th>Agency_C2B</th>\n",
       "      <th>Agency_CBH</th>\n",
       "      <th>Agency_CCR</th>\n",
       "      <th>Agency_CSR</th>\n",
       "      <th>Agency_CWT</th>\n",
       "      <th>Agency_EPX</th>\n",
       "      <th>Agency_JZI</th>\n",
       "      <th>Agency_KML</th>\n",
       "      <th>Agency_LWC</th>\n",
       "      <th>Agency_RAB</th>\n",
       "      <th>Agency_SSI</th>\n",
       "      <th>Agency_TST</th>\n",
       "      <th>Agency_TTW</th>\n",
       "      <th>Agency_Type_Airlines</th>\n",
       "      <th>Agency_Type_Travel Agency</th>\n",
       "      <th>Distribution_Channel_Offline</th>\n",
       "      <th>Distribution_Channel_Online</th>\n",
       "      <th>Product_Name_1 way Comprehensive Plan</th>\n",
       "      <th>Product_Name_2 way Comprehensive Plan</th>\n",
       "      <th>Product_Name_24 Protect</th>\n",
       "      <th>Product_Name_Annual Gold Plan</th>\n",
       "      <th>Product_Name_Annual Silver Plan</th>\n",
       "      <th>Product_Name_Annual Travel Protect Gold</th>\n",
       "      <th>Product_Name_Annual Travel Protect Platinum</th>\n",
       "      <th>Product_Name_Annual Travel Protect Silver</th>\n",
       "      <th>Product_Name_Basic Plan</th>\n",
       "      <th>Product_Name_Bronze Plan</th>\n",
       "      <th>Product_Name_Cancellation Plan</th>\n",
       "      <th>Product_Name_Child Comprehensive Plan</th>\n",
       "      <th>Product_Name_Comprehensive Plan</th>\n",
       "      <th>Product_Name_Gold Plan</th>\n",
       "      <th>Product_Name_Individual Comprehensive Plan</th>\n",
       "      <th>Product_Name_Premier Plan</th>\n",
       "      <th>...</th>\n",
       "      <th>Destination_MOROCCO</th>\n",
       "      <th>Destination_MYANMAR</th>\n",
       "      <th>Destination_NEPAL</th>\n",
       "      <th>Destination_NETHERLANDS</th>\n",
       "      <th>Destination_NEW ZEALAND</th>\n",
       "      <th>Destination_NORTHERN MARIANA ISLANDS</th>\n",
       "      <th>Destination_NORWAY</th>\n",
       "      <th>Destination_OMAN</th>\n",
       "      <th>Destination_PAKISTAN</th>\n",
       "      <th>Destination_PERU</th>\n",
       "      <th>Destination_PHILIPPINES</th>\n",
       "      <th>Destination_POLAND</th>\n",
       "      <th>Destination_PORTUGAL</th>\n",
       "      <th>Destination_QATAR</th>\n",
       "      <th>Destination_ROMANIA</th>\n",
       "      <th>Destination_RUSSIAN FEDERATION</th>\n",
       "      <th>Destination_SAUDI ARABIA</th>\n",
       "      <th>Destination_SINGAPORE</th>\n",
       "      <th>Destination_SLOVENIA</th>\n",
       "      <th>Destination_SOUTH AFRICA</th>\n",
       "      <th>Destination_SPAIN</th>\n",
       "      <th>Destination_SRI LANKA</th>\n",
       "      <th>Destination_SWEDEN</th>\n",
       "      <th>Destination_SWITZERLAND</th>\n",
       "      <th>Destination_TAIWAN, PROVINCE OF CHINA</th>\n",
       "      <th>Destination_TANZANIA, UNITED REPUBLIC OF</th>\n",
       "      <th>Destination_THAILAND</th>\n",
       "      <th>Destination_TUNISIA</th>\n",
       "      <th>Destination_TURKEY</th>\n",
       "      <th>Destination_TURKMENISTAN</th>\n",
       "      <th>Destination_UGANDA</th>\n",
       "      <th>Destination_UKRAINE</th>\n",
       "      <th>Destination_UNITED ARAB EMIRATES</th>\n",
       "      <th>Destination_UNITED KINGDOM</th>\n",
       "      <th>Destination_UNITED STATES</th>\n",
       "      <th>Destination_UZBEKISTAN</th>\n",
       "      <th>Destination_VANUATU</th>\n",
       "      <th>Destination_VENEZUELA</th>\n",
       "      <th>Destination_VIET NAM</th>\n",
       "      <th>Destination_ZAMBIA</th>\n",
       "    </tr>\n",
       "  </thead>\n",
       "  <tbody>\n",
       "    <tr>\n",
       "      <th>1</th>\n",
       "      <td>0</td>\n",
       "      <td>85</td>\n",
       "      <td>69.0</td>\n",
       "      <td>0.00</td>\n",
       "      <td>36</td>\n",
       "      <td>0</td>\n",
       "      <td>0</td>\n",
       "      <td>0</td>\n",
       "      <td>0</td>\n",
       "      <td>0</td>\n",
       "      <td>0</td>\n",
       "      <td>0</td>\n",
       "      <td>1</td>\n",
       "      <td>0</td>\n",
       "      <td>0</td>\n",
       "      <td>0</td>\n",
       "      <td>0</td>\n",
       "      <td>0</td>\n",
       "      <td>0</td>\n",
       "      <td>0</td>\n",
       "      <td>0</td>\n",
       "      <td>1</td>\n",
       "      <td>0</td>\n",
       "      <td>1</td>\n",
       "      <td>0</td>\n",
       "      <td>0</td>\n",
       "      <td>0</td>\n",
       "      <td>0</td>\n",
       "      <td>0</td>\n",
       "      <td>0</td>\n",
       "      <td>0</td>\n",
       "      <td>0</td>\n",
       "      <td>0</td>\n",
       "      <td>0</td>\n",
       "      <td>1</td>\n",
       "      <td>0</td>\n",
       "      <td>0</td>\n",
       "      <td>0</td>\n",
       "      <td>0</td>\n",
       "      <td>0</td>\n",
       "      <td>...</td>\n",
       "      <td>0</td>\n",
       "      <td>0</td>\n",
       "      <td>0</td>\n",
       "      <td>0</td>\n",
       "      <td>0</td>\n",
       "      <td>0</td>\n",
       "      <td>0</td>\n",
       "      <td>0</td>\n",
       "      <td>0</td>\n",
       "      <td>0</td>\n",
       "      <td>0</td>\n",
       "      <td>0</td>\n",
       "      <td>0</td>\n",
       "      <td>0</td>\n",
       "      <td>0</td>\n",
       "      <td>0</td>\n",
       "      <td>0</td>\n",
       "      <td>1</td>\n",
       "      <td>0</td>\n",
       "      <td>0</td>\n",
       "      <td>0</td>\n",
       "      <td>0</td>\n",
       "      <td>0</td>\n",
       "      <td>0</td>\n",
       "      <td>0</td>\n",
       "      <td>0</td>\n",
       "      <td>0</td>\n",
       "      <td>0</td>\n",
       "      <td>0</td>\n",
       "      <td>0</td>\n",
       "      <td>0</td>\n",
       "      <td>0</td>\n",
       "      <td>0</td>\n",
       "      <td>0</td>\n",
       "      <td>0</td>\n",
       "      <td>0</td>\n",
       "      <td>0</td>\n",
       "      <td>0</td>\n",
       "      <td>0</td>\n",
       "      <td>0</td>\n",
       "    </tr>\n",
       "    <tr>\n",
       "      <th>2</th>\n",
       "      <td>0</td>\n",
       "      <td>11</td>\n",
       "      <td>19.8</td>\n",
       "      <td>11.88</td>\n",
       "      <td>75</td>\n",
       "      <td>0</td>\n",
       "      <td>0</td>\n",
       "      <td>0</td>\n",
       "      <td>0</td>\n",
       "      <td>0</td>\n",
       "      <td>0</td>\n",
       "      <td>1</td>\n",
       "      <td>0</td>\n",
       "      <td>0</td>\n",
       "      <td>0</td>\n",
       "      <td>0</td>\n",
       "      <td>0</td>\n",
       "      <td>0</td>\n",
       "      <td>0</td>\n",
       "      <td>0</td>\n",
       "      <td>0</td>\n",
       "      <td>1</td>\n",
       "      <td>0</td>\n",
       "      <td>1</td>\n",
       "      <td>0</td>\n",
       "      <td>0</td>\n",
       "      <td>0</td>\n",
       "      <td>0</td>\n",
       "      <td>0</td>\n",
       "      <td>0</td>\n",
       "      <td>0</td>\n",
       "      <td>0</td>\n",
       "      <td>0</td>\n",
       "      <td>0</td>\n",
       "      <td>0</td>\n",
       "      <td>0</td>\n",
       "      <td>0</td>\n",
       "      <td>0</td>\n",
       "      <td>0</td>\n",
       "      <td>0</td>\n",
       "      <td>...</td>\n",
       "      <td>0</td>\n",
       "      <td>0</td>\n",
       "      <td>0</td>\n",
       "      <td>0</td>\n",
       "      <td>0</td>\n",
       "      <td>0</td>\n",
       "      <td>0</td>\n",
       "      <td>0</td>\n",
       "      <td>0</td>\n",
       "      <td>0</td>\n",
       "      <td>0</td>\n",
       "      <td>0</td>\n",
       "      <td>0</td>\n",
       "      <td>0</td>\n",
       "      <td>0</td>\n",
       "      <td>0</td>\n",
       "      <td>0</td>\n",
       "      <td>0</td>\n",
       "      <td>0</td>\n",
       "      <td>0</td>\n",
       "      <td>0</td>\n",
       "      <td>0</td>\n",
       "      <td>0</td>\n",
       "      <td>0</td>\n",
       "      <td>0</td>\n",
       "      <td>0</td>\n",
       "      <td>0</td>\n",
       "      <td>0</td>\n",
       "      <td>0</td>\n",
       "      <td>0</td>\n",
       "      <td>0</td>\n",
       "      <td>0</td>\n",
       "      <td>0</td>\n",
       "      <td>0</td>\n",
       "      <td>0</td>\n",
       "      <td>0</td>\n",
       "      <td>0</td>\n",
       "      <td>0</td>\n",
       "      <td>0</td>\n",
       "      <td>0</td>\n",
       "    </tr>\n",
       "    <tr>\n",
       "      <th>3</th>\n",
       "      <td>0</td>\n",
       "      <td>16</td>\n",
       "      <td>20.0</td>\n",
       "      <td>0.00</td>\n",
       "      <td>32</td>\n",
       "      <td>0</td>\n",
       "      <td>0</td>\n",
       "      <td>0</td>\n",
       "      <td>0</td>\n",
       "      <td>0</td>\n",
       "      <td>0</td>\n",
       "      <td>0</td>\n",
       "      <td>1</td>\n",
       "      <td>0</td>\n",
       "      <td>0</td>\n",
       "      <td>0</td>\n",
       "      <td>0</td>\n",
       "      <td>0</td>\n",
       "      <td>0</td>\n",
       "      <td>0</td>\n",
       "      <td>0</td>\n",
       "      <td>1</td>\n",
       "      <td>0</td>\n",
       "      <td>1</td>\n",
       "      <td>0</td>\n",
       "      <td>1</td>\n",
       "      <td>0</td>\n",
       "      <td>0</td>\n",
       "      <td>0</td>\n",
       "      <td>0</td>\n",
       "      <td>0</td>\n",
       "      <td>0</td>\n",
       "      <td>0</td>\n",
       "      <td>0</td>\n",
       "      <td>0</td>\n",
       "      <td>0</td>\n",
       "      <td>0</td>\n",
       "      <td>0</td>\n",
       "      <td>0</td>\n",
       "      <td>0</td>\n",
       "      <td>...</td>\n",
       "      <td>0</td>\n",
       "      <td>0</td>\n",
       "      <td>0</td>\n",
       "      <td>0</td>\n",
       "      <td>0</td>\n",
       "      <td>0</td>\n",
       "      <td>0</td>\n",
       "      <td>0</td>\n",
       "      <td>0</td>\n",
       "      <td>0</td>\n",
       "      <td>0</td>\n",
       "      <td>0</td>\n",
       "      <td>0</td>\n",
       "      <td>0</td>\n",
       "      <td>0</td>\n",
       "      <td>0</td>\n",
       "      <td>0</td>\n",
       "      <td>0</td>\n",
       "      <td>0</td>\n",
       "      <td>0</td>\n",
       "      <td>0</td>\n",
       "      <td>0</td>\n",
       "      <td>0</td>\n",
       "      <td>0</td>\n",
       "      <td>0</td>\n",
       "      <td>0</td>\n",
       "      <td>0</td>\n",
       "      <td>0</td>\n",
       "      <td>0</td>\n",
       "      <td>0</td>\n",
       "      <td>0</td>\n",
       "      <td>0</td>\n",
       "      <td>0</td>\n",
       "      <td>0</td>\n",
       "      <td>0</td>\n",
       "      <td>0</td>\n",
       "      <td>0</td>\n",
       "      <td>0</td>\n",
       "      <td>0</td>\n",
       "      <td>0</td>\n",
       "    </tr>\n",
       "    <tr>\n",
       "      <th>4</th>\n",
       "      <td>0</td>\n",
       "      <td>10</td>\n",
       "      <td>15.0</td>\n",
       "      <td>0.00</td>\n",
       "      <td>29</td>\n",
       "      <td>0</td>\n",
       "      <td>0</td>\n",
       "      <td>0</td>\n",
       "      <td>0</td>\n",
       "      <td>0</td>\n",
       "      <td>0</td>\n",
       "      <td>0</td>\n",
       "      <td>1</td>\n",
       "      <td>0</td>\n",
       "      <td>0</td>\n",
       "      <td>0</td>\n",
       "      <td>0</td>\n",
       "      <td>0</td>\n",
       "      <td>0</td>\n",
       "      <td>0</td>\n",
       "      <td>0</td>\n",
       "      <td>1</td>\n",
       "      <td>0</td>\n",
       "      <td>1</td>\n",
       "      <td>0</td>\n",
       "      <td>0</td>\n",
       "      <td>0</td>\n",
       "      <td>0</td>\n",
       "      <td>0</td>\n",
       "      <td>0</td>\n",
       "      <td>0</td>\n",
       "      <td>0</td>\n",
       "      <td>0</td>\n",
       "      <td>0</td>\n",
       "      <td>1</td>\n",
       "      <td>0</td>\n",
       "      <td>0</td>\n",
       "      <td>0</td>\n",
       "      <td>0</td>\n",
       "      <td>0</td>\n",
       "      <td>...</td>\n",
       "      <td>0</td>\n",
       "      <td>0</td>\n",
       "      <td>0</td>\n",
       "      <td>0</td>\n",
       "      <td>0</td>\n",
       "      <td>0</td>\n",
       "      <td>0</td>\n",
       "      <td>0</td>\n",
       "      <td>0</td>\n",
       "      <td>0</td>\n",
       "      <td>0</td>\n",
       "      <td>0</td>\n",
       "      <td>0</td>\n",
       "      <td>0</td>\n",
       "      <td>0</td>\n",
       "      <td>0</td>\n",
       "      <td>0</td>\n",
       "      <td>0</td>\n",
       "      <td>0</td>\n",
       "      <td>0</td>\n",
       "      <td>0</td>\n",
       "      <td>0</td>\n",
       "      <td>0</td>\n",
       "      <td>0</td>\n",
       "      <td>0</td>\n",
       "      <td>0</td>\n",
       "      <td>0</td>\n",
       "      <td>0</td>\n",
       "      <td>0</td>\n",
       "      <td>0</td>\n",
       "      <td>0</td>\n",
       "      <td>0</td>\n",
       "      <td>0</td>\n",
       "      <td>0</td>\n",
       "      <td>0</td>\n",
       "      <td>0</td>\n",
       "      <td>0</td>\n",
       "      <td>0</td>\n",
       "      <td>0</td>\n",
       "      <td>0</td>\n",
       "    </tr>\n",
       "    <tr>\n",
       "      <th>5</th>\n",
       "      <td>0</td>\n",
       "      <td>64</td>\n",
       "      <td>49.5</td>\n",
       "      <td>29.70</td>\n",
       "      <td>36</td>\n",
       "      <td>0</td>\n",
       "      <td>0</td>\n",
       "      <td>0</td>\n",
       "      <td>0</td>\n",
       "      <td>0</td>\n",
       "      <td>0</td>\n",
       "      <td>1</td>\n",
       "      <td>0</td>\n",
       "      <td>0</td>\n",
       "      <td>0</td>\n",
       "      <td>0</td>\n",
       "      <td>0</td>\n",
       "      <td>0</td>\n",
       "      <td>0</td>\n",
       "      <td>0</td>\n",
       "      <td>0</td>\n",
       "      <td>1</td>\n",
       "      <td>0</td>\n",
       "      <td>1</td>\n",
       "      <td>0</td>\n",
       "      <td>0</td>\n",
       "      <td>0</td>\n",
       "      <td>0</td>\n",
       "      <td>0</td>\n",
       "      <td>0</td>\n",
       "      <td>0</td>\n",
       "      <td>0</td>\n",
       "      <td>0</td>\n",
       "      <td>0</td>\n",
       "      <td>0</td>\n",
       "      <td>0</td>\n",
       "      <td>0</td>\n",
       "      <td>0</td>\n",
       "      <td>0</td>\n",
       "      <td>0</td>\n",
       "      <td>...</td>\n",
       "      <td>0</td>\n",
       "      <td>0</td>\n",
       "      <td>0</td>\n",
       "      <td>0</td>\n",
       "      <td>0</td>\n",
       "      <td>0</td>\n",
       "      <td>0</td>\n",
       "      <td>0</td>\n",
       "      <td>0</td>\n",
       "      <td>0</td>\n",
       "      <td>0</td>\n",
       "      <td>0</td>\n",
       "      <td>0</td>\n",
       "      <td>0</td>\n",
       "      <td>0</td>\n",
       "      <td>0</td>\n",
       "      <td>0</td>\n",
       "      <td>0</td>\n",
       "      <td>0</td>\n",
       "      <td>0</td>\n",
       "      <td>0</td>\n",
       "      <td>0</td>\n",
       "      <td>0</td>\n",
       "      <td>0</td>\n",
       "      <td>0</td>\n",
       "      <td>0</td>\n",
       "      <td>1</td>\n",
       "      <td>0</td>\n",
       "      <td>0</td>\n",
       "      <td>0</td>\n",
       "      <td>0</td>\n",
       "      <td>0</td>\n",
       "      <td>0</td>\n",
       "      <td>0</td>\n",
       "      <td>0</td>\n",
       "      <td>0</td>\n",
       "      <td>0</td>\n",
       "      <td>0</td>\n",
       "      <td>0</td>\n",
       "      <td>0</td>\n",
       "    </tr>\n",
       "  </tbody>\n",
       "</table>\n",
       "<p>5 rows × 151 columns</p>\n",
       "</div>"
      ],
      "text/plain": [
       "   Claim  Duration  ...  Destination_VIET NAM  Destination_ZAMBIA\n",
       "1      0        85  ...                     0                   0\n",
       "2      0        11  ...                     0                   0\n",
       "3      0        16  ...                     0                   0\n",
       "4      0        10  ...                     0                   0\n",
       "5      0        64  ...                     0                   0\n",
       "\n",
       "[5 rows x 151 columns]"
      ]
     },
     "execution_count": 81,
     "metadata": {
      "tags": []
     },
     "output_type": "execute_result"
    }
   ],
   "source": [
    "# impute one hot encoding for the columns: \"Agency\", \"Agency_Type\", \"Distribution_Channel\", \"Product name\" and \"Destination\"\n",
    "# creating dummies for categorical columns\n",
    "df_new = pd.get_dummies(df,columns=['Agency', 'Agency_Type', 'Distribution_Channel', \"Product_Name\", \"Destination\"])\n",
    "df_new.head()"
   ]
  },
  {
   "cell_type": "code",
   "execution_count": null,
   "metadata": {
    "colab": {
     "base_uri": "https://localhost:8080/"
    },
    "id": "ZydFa-xyWsTY",
    "outputId": "7c3205a7-7ab8-477e-9ee8-9547c28babab"
   },
   "outputs": [
    {
     "name": "stdout",
     "output_type": "stream",
     "text": [
      "<class 'pandas.core.frame.DataFrame'>\n",
      "Int64Index: 48251 entries, 1 to 50552\n",
      "Columns: 151 entries, Claim to Destination_ZAMBIA\n",
      "dtypes: float64(2), int64(3), uint8(146)\n",
      "memory usage: 8.9 MB\n"
     ]
    }
   ],
   "source": [
    "# to check that there is now no categorical data\n",
    "df_new.info()"
   ]
  },
  {
   "cell_type": "markdown",
   "metadata": {
    "id": "NFfzrapQXCSu"
   },
   "source": [
    "# Train-Test Data¶"
   ]
  },
  {
   "cell_type": "code",
   "execution_count": null,
   "metadata": {
    "id": "x2FK4XSyW3rJ"
   },
   "outputs": [],
   "source": [
    "# import train_test_split\n",
    "from sklearn.model_selection import train_test_split\n",
    "\n",
    "# split dataset between features and target\n",
    "Y =df_new['Claim']\n",
    "X = df_new.drop(['Claim'], axis=1)\n",
    "\n",
    "# split the data into 70% training data and 30% testing data\n",
    "X_train, X_test, Y_train, Y_test = train_test_split(X, Y, test_size = 0.3, stratify=Y)"
   ]
  },
  {
   "cell_type": "code",
   "execution_count": null,
   "metadata": {
    "colab": {
     "base_uri": "https://localhost:8080/",
     "height": 302
    },
    "id": "cCR_prrNXdWR",
    "outputId": "6eb64170-9bba-4782-98e6-4c193dbf083f"
   },
   "outputs": [
    {
     "data": {
      "text/html": [
       "<div>\n",
       "<style scoped>\n",
       "    .dataframe tbody tr th:only-of-type {\n",
       "        vertical-align: middle;\n",
       "    }\n",
       "\n",
       "    .dataframe tbody tr th {\n",
       "        vertical-align: top;\n",
       "    }\n",
       "\n",
       "    .dataframe thead th {\n",
       "        text-align: right;\n",
       "    }\n",
       "</style>\n",
       "<table border=\"1\" class=\"dataframe\">\n",
       "  <thead>\n",
       "    <tr style=\"text-align: right;\">\n",
       "      <th></th>\n",
       "      <th>Duration</th>\n",
       "      <th>Net_Sales</th>\n",
       "      <th>Commision</th>\n",
       "      <th>Age</th>\n",
       "      <th>Agency_ADM</th>\n",
       "      <th>Agency_ART</th>\n",
       "      <th>Agency_C2B</th>\n",
       "      <th>Agency_CBH</th>\n",
       "      <th>Agency_CCR</th>\n",
       "      <th>Agency_CSR</th>\n",
       "      <th>Agency_CWT</th>\n",
       "      <th>Agency_EPX</th>\n",
       "      <th>Agency_JZI</th>\n",
       "      <th>Agency_KML</th>\n",
       "      <th>Agency_LWC</th>\n",
       "      <th>Agency_RAB</th>\n",
       "      <th>Agency_SSI</th>\n",
       "      <th>Agency_TST</th>\n",
       "      <th>Agency_TTW</th>\n",
       "      <th>Agency_Type_Airlines</th>\n",
       "      <th>Agency_Type_Travel Agency</th>\n",
       "      <th>Distribution_Channel_Offline</th>\n",
       "      <th>Distribution_Channel_Online</th>\n",
       "      <th>Product_Name_1 way Comprehensive Plan</th>\n",
       "      <th>Product_Name_2 way Comprehensive Plan</th>\n",
       "      <th>Product_Name_24 Protect</th>\n",
       "      <th>Product_Name_Annual Gold Plan</th>\n",
       "      <th>Product_Name_Annual Silver Plan</th>\n",
       "      <th>Product_Name_Annual Travel Protect Gold</th>\n",
       "      <th>Product_Name_Annual Travel Protect Platinum</th>\n",
       "      <th>Product_Name_Annual Travel Protect Silver</th>\n",
       "      <th>Product_Name_Basic Plan</th>\n",
       "      <th>Product_Name_Bronze Plan</th>\n",
       "      <th>Product_Name_Cancellation Plan</th>\n",
       "      <th>Product_Name_Child Comprehensive Plan</th>\n",
       "      <th>Product_Name_Comprehensive Plan</th>\n",
       "      <th>Product_Name_Gold Plan</th>\n",
       "      <th>Product_Name_Individual Comprehensive Plan</th>\n",
       "      <th>Product_Name_Premier Plan</th>\n",
       "      <th>Product_Name_Rental Vehicle Excess Insurance</th>\n",
       "      <th>...</th>\n",
       "      <th>Destination_MOROCCO</th>\n",
       "      <th>Destination_MYANMAR</th>\n",
       "      <th>Destination_NEPAL</th>\n",
       "      <th>Destination_NETHERLANDS</th>\n",
       "      <th>Destination_NEW ZEALAND</th>\n",
       "      <th>Destination_NORTHERN MARIANA ISLANDS</th>\n",
       "      <th>Destination_NORWAY</th>\n",
       "      <th>Destination_OMAN</th>\n",
       "      <th>Destination_PAKISTAN</th>\n",
       "      <th>Destination_PERU</th>\n",
       "      <th>Destination_PHILIPPINES</th>\n",
       "      <th>Destination_POLAND</th>\n",
       "      <th>Destination_PORTUGAL</th>\n",
       "      <th>Destination_QATAR</th>\n",
       "      <th>Destination_ROMANIA</th>\n",
       "      <th>Destination_RUSSIAN FEDERATION</th>\n",
       "      <th>Destination_SAUDI ARABIA</th>\n",
       "      <th>Destination_SINGAPORE</th>\n",
       "      <th>Destination_SLOVENIA</th>\n",
       "      <th>Destination_SOUTH AFRICA</th>\n",
       "      <th>Destination_SPAIN</th>\n",
       "      <th>Destination_SRI LANKA</th>\n",
       "      <th>Destination_SWEDEN</th>\n",
       "      <th>Destination_SWITZERLAND</th>\n",
       "      <th>Destination_TAIWAN, PROVINCE OF CHINA</th>\n",
       "      <th>Destination_TANZANIA, UNITED REPUBLIC OF</th>\n",
       "      <th>Destination_THAILAND</th>\n",
       "      <th>Destination_TUNISIA</th>\n",
       "      <th>Destination_TURKEY</th>\n",
       "      <th>Destination_TURKMENISTAN</th>\n",
       "      <th>Destination_UGANDA</th>\n",
       "      <th>Destination_UKRAINE</th>\n",
       "      <th>Destination_UNITED ARAB EMIRATES</th>\n",
       "      <th>Destination_UNITED KINGDOM</th>\n",
       "      <th>Destination_UNITED STATES</th>\n",
       "      <th>Destination_UZBEKISTAN</th>\n",
       "      <th>Destination_VANUATU</th>\n",
       "      <th>Destination_VENEZUELA</th>\n",
       "      <th>Destination_VIET NAM</th>\n",
       "      <th>Destination_ZAMBIA</th>\n",
       "    </tr>\n",
       "  </thead>\n",
       "  <tbody>\n",
       "    <tr>\n",
       "      <th>13270</th>\n",
       "      <td>366</td>\n",
       "      <td>216.00</td>\n",
       "      <td>54.00</td>\n",
       "      <td>27</td>\n",
       "      <td>0</td>\n",
       "      <td>0</td>\n",
       "      <td>1</td>\n",
       "      <td>0</td>\n",
       "      <td>0</td>\n",
       "      <td>0</td>\n",
       "      <td>0</td>\n",
       "      <td>0</td>\n",
       "      <td>0</td>\n",
       "      <td>0</td>\n",
       "      <td>0</td>\n",
       "      <td>0</td>\n",
       "      <td>0</td>\n",
       "      <td>0</td>\n",
       "      <td>0</td>\n",
       "      <td>1</td>\n",
       "      <td>0</td>\n",
       "      <td>0</td>\n",
       "      <td>1</td>\n",
       "      <td>0</td>\n",
       "      <td>0</td>\n",
       "      <td>0</td>\n",
       "      <td>0</td>\n",
       "      <td>1</td>\n",
       "      <td>0</td>\n",
       "      <td>0</td>\n",
       "      <td>0</td>\n",
       "      <td>0</td>\n",
       "      <td>0</td>\n",
       "      <td>0</td>\n",
       "      <td>0</td>\n",
       "      <td>0</td>\n",
       "      <td>0</td>\n",
       "      <td>0</td>\n",
       "      <td>0</td>\n",
       "      <td>0</td>\n",
       "      <td>...</td>\n",
       "      <td>0</td>\n",
       "      <td>0</td>\n",
       "      <td>0</td>\n",
       "      <td>0</td>\n",
       "      <td>0</td>\n",
       "      <td>0</td>\n",
       "      <td>0</td>\n",
       "      <td>0</td>\n",
       "      <td>0</td>\n",
       "      <td>0</td>\n",
       "      <td>0</td>\n",
       "      <td>0</td>\n",
       "      <td>0</td>\n",
       "      <td>0</td>\n",
       "      <td>0</td>\n",
       "      <td>0</td>\n",
       "      <td>0</td>\n",
       "      <td>1</td>\n",
       "      <td>0</td>\n",
       "      <td>0</td>\n",
       "      <td>0</td>\n",
       "      <td>0</td>\n",
       "      <td>0</td>\n",
       "      <td>0</td>\n",
       "      <td>0</td>\n",
       "      <td>0</td>\n",
       "      <td>0</td>\n",
       "      <td>0</td>\n",
       "      <td>0</td>\n",
       "      <td>0</td>\n",
       "      <td>0</td>\n",
       "      <td>0</td>\n",
       "      <td>0</td>\n",
       "      <td>0</td>\n",
       "      <td>0</td>\n",
       "      <td>0</td>\n",
       "      <td>0</td>\n",
       "      <td>0</td>\n",
       "      <td>0</td>\n",
       "      <td>0</td>\n",
       "    </tr>\n",
       "    <tr>\n",
       "      <th>33840</th>\n",
       "      <td>45</td>\n",
       "      <td>50.00</td>\n",
       "      <td>0.00</td>\n",
       "      <td>36</td>\n",
       "      <td>0</td>\n",
       "      <td>0</td>\n",
       "      <td>0</td>\n",
       "      <td>0</td>\n",
       "      <td>0</td>\n",
       "      <td>0</td>\n",
       "      <td>0</td>\n",
       "      <td>1</td>\n",
       "      <td>0</td>\n",
       "      <td>0</td>\n",
       "      <td>0</td>\n",
       "      <td>0</td>\n",
       "      <td>0</td>\n",
       "      <td>0</td>\n",
       "      <td>0</td>\n",
       "      <td>0</td>\n",
       "      <td>1</td>\n",
       "      <td>0</td>\n",
       "      <td>1</td>\n",
       "      <td>0</td>\n",
       "      <td>1</td>\n",
       "      <td>0</td>\n",
       "      <td>0</td>\n",
       "      <td>0</td>\n",
       "      <td>0</td>\n",
       "      <td>0</td>\n",
       "      <td>0</td>\n",
       "      <td>0</td>\n",
       "      <td>0</td>\n",
       "      <td>0</td>\n",
       "      <td>0</td>\n",
       "      <td>0</td>\n",
       "      <td>0</td>\n",
       "      <td>0</td>\n",
       "      <td>0</td>\n",
       "      <td>0</td>\n",
       "      <td>...</td>\n",
       "      <td>0</td>\n",
       "      <td>0</td>\n",
       "      <td>0</td>\n",
       "      <td>0</td>\n",
       "      <td>0</td>\n",
       "      <td>0</td>\n",
       "      <td>0</td>\n",
       "      <td>0</td>\n",
       "      <td>0</td>\n",
       "      <td>0</td>\n",
       "      <td>0</td>\n",
       "      <td>0</td>\n",
       "      <td>0</td>\n",
       "      <td>0</td>\n",
       "      <td>0</td>\n",
       "      <td>0</td>\n",
       "      <td>0</td>\n",
       "      <td>0</td>\n",
       "      <td>0</td>\n",
       "      <td>0</td>\n",
       "      <td>0</td>\n",
       "      <td>0</td>\n",
       "      <td>0</td>\n",
       "      <td>0</td>\n",
       "      <td>0</td>\n",
       "      <td>0</td>\n",
       "      <td>0</td>\n",
       "      <td>0</td>\n",
       "      <td>0</td>\n",
       "      <td>0</td>\n",
       "      <td>0</td>\n",
       "      <td>0</td>\n",
       "      <td>0</td>\n",
       "      <td>0</td>\n",
       "      <td>0</td>\n",
       "      <td>0</td>\n",
       "      <td>0</td>\n",
       "      <td>0</td>\n",
       "      <td>0</td>\n",
       "      <td>0</td>\n",
       "    </tr>\n",
       "    <tr>\n",
       "      <th>12500</th>\n",
       "      <td>71</td>\n",
       "      <td>67.00</td>\n",
       "      <td>0.00</td>\n",
       "      <td>36</td>\n",
       "      <td>0</td>\n",
       "      <td>0</td>\n",
       "      <td>0</td>\n",
       "      <td>0</td>\n",
       "      <td>0</td>\n",
       "      <td>0</td>\n",
       "      <td>0</td>\n",
       "      <td>1</td>\n",
       "      <td>0</td>\n",
       "      <td>0</td>\n",
       "      <td>0</td>\n",
       "      <td>0</td>\n",
       "      <td>0</td>\n",
       "      <td>0</td>\n",
       "      <td>0</td>\n",
       "      <td>0</td>\n",
       "      <td>1</td>\n",
       "      <td>0</td>\n",
       "      <td>1</td>\n",
       "      <td>0</td>\n",
       "      <td>1</td>\n",
       "      <td>0</td>\n",
       "      <td>0</td>\n",
       "      <td>0</td>\n",
       "      <td>0</td>\n",
       "      <td>0</td>\n",
       "      <td>0</td>\n",
       "      <td>0</td>\n",
       "      <td>0</td>\n",
       "      <td>0</td>\n",
       "      <td>0</td>\n",
       "      <td>0</td>\n",
       "      <td>0</td>\n",
       "      <td>0</td>\n",
       "      <td>0</td>\n",
       "      <td>0</td>\n",
       "      <td>...</td>\n",
       "      <td>0</td>\n",
       "      <td>0</td>\n",
       "      <td>0</td>\n",
       "      <td>0</td>\n",
       "      <td>0</td>\n",
       "      <td>0</td>\n",
       "      <td>0</td>\n",
       "      <td>0</td>\n",
       "      <td>0</td>\n",
       "      <td>0</td>\n",
       "      <td>0</td>\n",
       "      <td>0</td>\n",
       "      <td>0</td>\n",
       "      <td>0</td>\n",
       "      <td>0</td>\n",
       "      <td>0</td>\n",
       "      <td>0</td>\n",
       "      <td>0</td>\n",
       "      <td>0</td>\n",
       "      <td>0</td>\n",
       "      <td>0</td>\n",
       "      <td>0</td>\n",
       "      <td>0</td>\n",
       "      <td>0</td>\n",
       "      <td>0</td>\n",
       "      <td>0</td>\n",
       "      <td>0</td>\n",
       "      <td>0</td>\n",
       "      <td>0</td>\n",
       "      <td>0</td>\n",
       "      <td>0</td>\n",
       "      <td>0</td>\n",
       "      <td>0</td>\n",
       "      <td>0</td>\n",
       "      <td>0</td>\n",
       "      <td>0</td>\n",
       "      <td>0</td>\n",
       "      <td>0</td>\n",
       "      <td>0</td>\n",
       "      <td>0</td>\n",
       "    </tr>\n",
       "    <tr>\n",
       "      <th>33736</th>\n",
       "      <td>24</td>\n",
       "      <td>102.05</td>\n",
       "      <td>25.51</td>\n",
       "      <td>56</td>\n",
       "      <td>0</td>\n",
       "      <td>0</td>\n",
       "      <td>1</td>\n",
       "      <td>0</td>\n",
       "      <td>0</td>\n",
       "      <td>0</td>\n",
       "      <td>0</td>\n",
       "      <td>0</td>\n",
       "      <td>0</td>\n",
       "      <td>0</td>\n",
       "      <td>0</td>\n",
       "      <td>0</td>\n",
       "      <td>0</td>\n",
       "      <td>0</td>\n",
       "      <td>0</td>\n",
       "      <td>1</td>\n",
       "      <td>0</td>\n",
       "      <td>0</td>\n",
       "      <td>1</td>\n",
       "      <td>0</td>\n",
       "      <td>0</td>\n",
       "      <td>0</td>\n",
       "      <td>0</td>\n",
       "      <td>0</td>\n",
       "      <td>0</td>\n",
       "      <td>0</td>\n",
       "      <td>0</td>\n",
       "      <td>0</td>\n",
       "      <td>0</td>\n",
       "      <td>0</td>\n",
       "      <td>0</td>\n",
       "      <td>0</td>\n",
       "      <td>0</td>\n",
       "      <td>0</td>\n",
       "      <td>0</td>\n",
       "      <td>0</td>\n",
       "      <td>...</td>\n",
       "      <td>0</td>\n",
       "      <td>0</td>\n",
       "      <td>0</td>\n",
       "      <td>0</td>\n",
       "      <td>0</td>\n",
       "      <td>0</td>\n",
       "      <td>0</td>\n",
       "      <td>0</td>\n",
       "      <td>0</td>\n",
       "      <td>0</td>\n",
       "      <td>0</td>\n",
       "      <td>0</td>\n",
       "      <td>0</td>\n",
       "      <td>0</td>\n",
       "      <td>0</td>\n",
       "      <td>0</td>\n",
       "      <td>0</td>\n",
       "      <td>1</td>\n",
       "      <td>0</td>\n",
       "      <td>0</td>\n",
       "      <td>0</td>\n",
       "      <td>0</td>\n",
       "      <td>0</td>\n",
       "      <td>0</td>\n",
       "      <td>0</td>\n",
       "      <td>0</td>\n",
       "      <td>0</td>\n",
       "      <td>0</td>\n",
       "      <td>0</td>\n",
       "      <td>0</td>\n",
       "      <td>0</td>\n",
       "      <td>0</td>\n",
       "      <td>0</td>\n",
       "      <td>0</td>\n",
       "      <td>0</td>\n",
       "      <td>0</td>\n",
       "      <td>0</td>\n",
       "      <td>0</td>\n",
       "      <td>0</td>\n",
       "      <td>0</td>\n",
       "    </tr>\n",
       "    <tr>\n",
       "      <th>38218</th>\n",
       "      <td>368</td>\n",
       "      <td>323.40</td>\n",
       "      <td>210.21</td>\n",
       "      <td>40</td>\n",
       "      <td>0</td>\n",
       "      <td>0</td>\n",
       "      <td>0</td>\n",
       "      <td>0</td>\n",
       "      <td>0</td>\n",
       "      <td>0</td>\n",
       "      <td>0</td>\n",
       "      <td>0</td>\n",
       "      <td>0</td>\n",
       "      <td>0</td>\n",
       "      <td>1</td>\n",
       "      <td>0</td>\n",
       "      <td>0</td>\n",
       "      <td>0</td>\n",
       "      <td>0</td>\n",
       "      <td>0</td>\n",
       "      <td>1</td>\n",
       "      <td>0</td>\n",
       "      <td>1</td>\n",
       "      <td>0</td>\n",
       "      <td>0</td>\n",
       "      <td>0</td>\n",
       "      <td>0</td>\n",
       "      <td>0</td>\n",
       "      <td>0</td>\n",
       "      <td>1</td>\n",
       "      <td>0</td>\n",
       "      <td>0</td>\n",
       "      <td>0</td>\n",
       "      <td>0</td>\n",
       "      <td>0</td>\n",
       "      <td>0</td>\n",
       "      <td>0</td>\n",
       "      <td>0</td>\n",
       "      <td>0</td>\n",
       "      <td>0</td>\n",
       "      <td>...</td>\n",
       "      <td>0</td>\n",
       "      <td>0</td>\n",
       "      <td>0</td>\n",
       "      <td>0</td>\n",
       "      <td>0</td>\n",
       "      <td>0</td>\n",
       "      <td>0</td>\n",
       "      <td>0</td>\n",
       "      <td>0</td>\n",
       "      <td>0</td>\n",
       "      <td>0</td>\n",
       "      <td>0</td>\n",
       "      <td>0</td>\n",
       "      <td>0</td>\n",
       "      <td>0</td>\n",
       "      <td>0</td>\n",
       "      <td>0</td>\n",
       "      <td>0</td>\n",
       "      <td>0</td>\n",
       "      <td>0</td>\n",
       "      <td>0</td>\n",
       "      <td>0</td>\n",
       "      <td>0</td>\n",
       "      <td>0</td>\n",
       "      <td>0</td>\n",
       "      <td>0</td>\n",
       "      <td>0</td>\n",
       "      <td>0</td>\n",
       "      <td>0</td>\n",
       "      <td>0</td>\n",
       "      <td>0</td>\n",
       "      <td>0</td>\n",
       "      <td>0</td>\n",
       "      <td>0</td>\n",
       "      <td>1</td>\n",
       "      <td>0</td>\n",
       "      <td>0</td>\n",
       "      <td>0</td>\n",
       "      <td>0</td>\n",
       "      <td>0</td>\n",
       "    </tr>\n",
       "  </tbody>\n",
       "</table>\n",
       "<p>5 rows × 150 columns</p>\n",
       "</div>"
      ],
      "text/plain": [
       "       Duration  Net_Sales  ...  Destination_VIET NAM  Destination_ZAMBIA\n",
       "13270       366     216.00  ...                     0                   0\n",
       "33840        45      50.00  ...                     0                   0\n",
       "12500        71      67.00  ...                     0                   0\n",
       "33736        24     102.05  ...                     0                   0\n",
       "38218       368     323.40  ...                     0                   0\n",
       "\n",
       "[5 rows x 150 columns]"
      ]
     },
     "execution_count": 84,
     "metadata": {
      "tags": []
     },
     "output_type": "execute_result"
    }
   ],
   "source": [
    "# to see what the training set looks like\n",
    "X_train.head()"
   ]
  },
  {
   "cell_type": "code",
   "execution_count": null,
   "metadata": {
    "colab": {
     "base_uri": "https://localhost:8080/",
     "height": 302
    },
    "id": "SU2FMOMTXy3Z",
    "outputId": "1fa1445c-ff93-4213-d59a-1d6652b6fda9"
   },
   "outputs": [
    {
     "data": {
      "text/html": [
       "<div>\n",
       "<style scoped>\n",
       "    .dataframe tbody tr th:only-of-type {\n",
       "        vertical-align: middle;\n",
       "    }\n",
       "\n",
       "    .dataframe tbody tr th {\n",
       "        vertical-align: top;\n",
       "    }\n",
       "\n",
       "    .dataframe thead th {\n",
       "        text-align: right;\n",
       "    }\n",
       "</style>\n",
       "<table border=\"1\" class=\"dataframe\">\n",
       "  <thead>\n",
       "    <tr style=\"text-align: right;\">\n",
       "      <th></th>\n",
       "      <th>Duration</th>\n",
       "      <th>Net_Sales</th>\n",
       "      <th>Commision</th>\n",
       "      <th>Age</th>\n",
       "      <th>Agency_ADM</th>\n",
       "      <th>Agency_ART</th>\n",
       "      <th>Agency_C2B</th>\n",
       "      <th>Agency_CBH</th>\n",
       "      <th>Agency_CCR</th>\n",
       "      <th>Agency_CSR</th>\n",
       "      <th>Agency_CWT</th>\n",
       "      <th>Agency_EPX</th>\n",
       "      <th>Agency_JZI</th>\n",
       "      <th>Agency_KML</th>\n",
       "      <th>Agency_LWC</th>\n",
       "      <th>Agency_RAB</th>\n",
       "      <th>Agency_SSI</th>\n",
       "      <th>Agency_TST</th>\n",
       "      <th>Agency_TTW</th>\n",
       "      <th>Agency_Type_Airlines</th>\n",
       "      <th>Agency_Type_Travel Agency</th>\n",
       "      <th>Distribution_Channel_Offline</th>\n",
       "      <th>Distribution_Channel_Online</th>\n",
       "      <th>Product_Name_1 way Comprehensive Plan</th>\n",
       "      <th>Product_Name_2 way Comprehensive Plan</th>\n",
       "      <th>Product_Name_24 Protect</th>\n",
       "      <th>Product_Name_Annual Gold Plan</th>\n",
       "      <th>Product_Name_Annual Silver Plan</th>\n",
       "      <th>Product_Name_Annual Travel Protect Gold</th>\n",
       "      <th>Product_Name_Annual Travel Protect Platinum</th>\n",
       "      <th>Product_Name_Annual Travel Protect Silver</th>\n",
       "      <th>Product_Name_Basic Plan</th>\n",
       "      <th>Product_Name_Bronze Plan</th>\n",
       "      <th>Product_Name_Cancellation Plan</th>\n",
       "      <th>Product_Name_Child Comprehensive Plan</th>\n",
       "      <th>Product_Name_Comprehensive Plan</th>\n",
       "      <th>Product_Name_Gold Plan</th>\n",
       "      <th>Product_Name_Individual Comprehensive Plan</th>\n",
       "      <th>Product_Name_Premier Plan</th>\n",
       "      <th>Product_Name_Rental Vehicle Excess Insurance</th>\n",
       "      <th>...</th>\n",
       "      <th>Destination_MOROCCO</th>\n",
       "      <th>Destination_MYANMAR</th>\n",
       "      <th>Destination_NEPAL</th>\n",
       "      <th>Destination_NETHERLANDS</th>\n",
       "      <th>Destination_NEW ZEALAND</th>\n",
       "      <th>Destination_NORTHERN MARIANA ISLANDS</th>\n",
       "      <th>Destination_NORWAY</th>\n",
       "      <th>Destination_OMAN</th>\n",
       "      <th>Destination_PAKISTAN</th>\n",
       "      <th>Destination_PERU</th>\n",
       "      <th>Destination_PHILIPPINES</th>\n",
       "      <th>Destination_POLAND</th>\n",
       "      <th>Destination_PORTUGAL</th>\n",
       "      <th>Destination_QATAR</th>\n",
       "      <th>Destination_ROMANIA</th>\n",
       "      <th>Destination_RUSSIAN FEDERATION</th>\n",
       "      <th>Destination_SAUDI ARABIA</th>\n",
       "      <th>Destination_SINGAPORE</th>\n",
       "      <th>Destination_SLOVENIA</th>\n",
       "      <th>Destination_SOUTH AFRICA</th>\n",
       "      <th>Destination_SPAIN</th>\n",
       "      <th>Destination_SRI LANKA</th>\n",
       "      <th>Destination_SWEDEN</th>\n",
       "      <th>Destination_SWITZERLAND</th>\n",
       "      <th>Destination_TAIWAN, PROVINCE OF CHINA</th>\n",
       "      <th>Destination_TANZANIA, UNITED REPUBLIC OF</th>\n",
       "      <th>Destination_THAILAND</th>\n",
       "      <th>Destination_TUNISIA</th>\n",
       "      <th>Destination_TURKEY</th>\n",
       "      <th>Destination_TURKMENISTAN</th>\n",
       "      <th>Destination_UGANDA</th>\n",
       "      <th>Destination_UKRAINE</th>\n",
       "      <th>Destination_UNITED ARAB EMIRATES</th>\n",
       "      <th>Destination_UNITED KINGDOM</th>\n",
       "      <th>Destination_UNITED STATES</th>\n",
       "      <th>Destination_UZBEKISTAN</th>\n",
       "      <th>Destination_VANUATU</th>\n",
       "      <th>Destination_VENEZUELA</th>\n",
       "      <th>Destination_VIET NAM</th>\n",
       "      <th>Destination_ZAMBIA</th>\n",
       "    </tr>\n",
       "  </thead>\n",
       "  <tbody>\n",
       "    <tr>\n",
       "      <th>41140</th>\n",
       "      <td>11</td>\n",
       "      <td>44.0</td>\n",
       "      <td>0.0</td>\n",
       "      <td>36</td>\n",
       "      <td>0</td>\n",
       "      <td>0</td>\n",
       "      <td>0</td>\n",
       "      <td>0</td>\n",
       "      <td>0</td>\n",
       "      <td>0</td>\n",
       "      <td>0</td>\n",
       "      <td>1</td>\n",
       "      <td>0</td>\n",
       "      <td>0</td>\n",
       "      <td>0</td>\n",
       "      <td>0</td>\n",
       "      <td>0</td>\n",
       "      <td>0</td>\n",
       "      <td>0</td>\n",
       "      <td>0</td>\n",
       "      <td>1</td>\n",
       "      <td>0</td>\n",
       "      <td>1</td>\n",
       "      <td>0</td>\n",
       "      <td>1</td>\n",
       "      <td>0</td>\n",
       "      <td>0</td>\n",
       "      <td>0</td>\n",
       "      <td>0</td>\n",
       "      <td>0</td>\n",
       "      <td>0</td>\n",
       "      <td>0</td>\n",
       "      <td>0</td>\n",
       "      <td>0</td>\n",
       "      <td>0</td>\n",
       "      <td>0</td>\n",
       "      <td>0</td>\n",
       "      <td>0</td>\n",
       "      <td>0</td>\n",
       "      <td>0</td>\n",
       "      <td>...</td>\n",
       "      <td>0</td>\n",
       "      <td>0</td>\n",
       "      <td>0</td>\n",
       "      <td>0</td>\n",
       "      <td>0</td>\n",
       "      <td>0</td>\n",
       "      <td>0</td>\n",
       "      <td>0</td>\n",
       "      <td>0</td>\n",
       "      <td>0</td>\n",
       "      <td>0</td>\n",
       "      <td>0</td>\n",
       "      <td>0</td>\n",
       "      <td>0</td>\n",
       "      <td>0</td>\n",
       "      <td>0</td>\n",
       "      <td>0</td>\n",
       "      <td>0</td>\n",
       "      <td>0</td>\n",
       "      <td>0</td>\n",
       "      <td>0</td>\n",
       "      <td>0</td>\n",
       "      <td>0</td>\n",
       "      <td>0</td>\n",
       "      <td>0</td>\n",
       "      <td>0</td>\n",
       "      <td>0</td>\n",
       "      <td>0</td>\n",
       "      <td>0</td>\n",
       "      <td>0</td>\n",
       "      <td>0</td>\n",
       "      <td>0</td>\n",
       "      <td>0</td>\n",
       "      <td>0</td>\n",
       "      <td>0</td>\n",
       "      <td>0</td>\n",
       "      <td>0</td>\n",
       "      <td>0</td>\n",
       "      <td>0</td>\n",
       "      <td>0</td>\n",
       "    </tr>\n",
       "    <tr>\n",
       "      <th>3570</th>\n",
       "      <td>21</td>\n",
       "      <td>19.0</td>\n",
       "      <td>0.0</td>\n",
       "      <td>36</td>\n",
       "      <td>0</td>\n",
       "      <td>0</td>\n",
       "      <td>0</td>\n",
       "      <td>0</td>\n",
       "      <td>0</td>\n",
       "      <td>0</td>\n",
       "      <td>0</td>\n",
       "      <td>1</td>\n",
       "      <td>0</td>\n",
       "      <td>0</td>\n",
       "      <td>0</td>\n",
       "      <td>0</td>\n",
       "      <td>0</td>\n",
       "      <td>0</td>\n",
       "      <td>0</td>\n",
       "      <td>0</td>\n",
       "      <td>1</td>\n",
       "      <td>0</td>\n",
       "      <td>1</td>\n",
       "      <td>0</td>\n",
       "      <td>0</td>\n",
       "      <td>0</td>\n",
       "      <td>0</td>\n",
       "      <td>0</td>\n",
       "      <td>0</td>\n",
       "      <td>0</td>\n",
       "      <td>0</td>\n",
       "      <td>0</td>\n",
       "      <td>0</td>\n",
       "      <td>1</td>\n",
       "      <td>0</td>\n",
       "      <td>0</td>\n",
       "      <td>0</td>\n",
       "      <td>0</td>\n",
       "      <td>0</td>\n",
       "      <td>0</td>\n",
       "      <td>...</td>\n",
       "      <td>0</td>\n",
       "      <td>0</td>\n",
       "      <td>0</td>\n",
       "      <td>0</td>\n",
       "      <td>0</td>\n",
       "      <td>0</td>\n",
       "      <td>0</td>\n",
       "      <td>0</td>\n",
       "      <td>0</td>\n",
       "      <td>0</td>\n",
       "      <td>0</td>\n",
       "      <td>0</td>\n",
       "      <td>0</td>\n",
       "      <td>0</td>\n",
       "      <td>0</td>\n",
       "      <td>0</td>\n",
       "      <td>0</td>\n",
       "      <td>0</td>\n",
       "      <td>0</td>\n",
       "      <td>0</td>\n",
       "      <td>0</td>\n",
       "      <td>0</td>\n",
       "      <td>0</td>\n",
       "      <td>0</td>\n",
       "      <td>0</td>\n",
       "      <td>0</td>\n",
       "      <td>0</td>\n",
       "      <td>0</td>\n",
       "      <td>0</td>\n",
       "      <td>0</td>\n",
       "      <td>0</td>\n",
       "      <td>0</td>\n",
       "      <td>0</td>\n",
       "      <td>0</td>\n",
       "      <td>0</td>\n",
       "      <td>0</td>\n",
       "      <td>0</td>\n",
       "      <td>0</td>\n",
       "      <td>0</td>\n",
       "      <td>0</td>\n",
       "    </tr>\n",
       "    <tr>\n",
       "      <th>39328</th>\n",
       "      <td>21</td>\n",
       "      <td>12.0</td>\n",
       "      <td>0.0</td>\n",
       "      <td>32</td>\n",
       "      <td>0</td>\n",
       "      <td>0</td>\n",
       "      <td>0</td>\n",
       "      <td>0</td>\n",
       "      <td>0</td>\n",
       "      <td>0</td>\n",
       "      <td>0</td>\n",
       "      <td>1</td>\n",
       "      <td>0</td>\n",
       "      <td>0</td>\n",
       "      <td>0</td>\n",
       "      <td>0</td>\n",
       "      <td>0</td>\n",
       "      <td>0</td>\n",
       "      <td>0</td>\n",
       "      <td>0</td>\n",
       "      <td>1</td>\n",
       "      <td>0</td>\n",
       "      <td>1</td>\n",
       "      <td>0</td>\n",
       "      <td>0</td>\n",
       "      <td>0</td>\n",
       "      <td>0</td>\n",
       "      <td>0</td>\n",
       "      <td>0</td>\n",
       "      <td>0</td>\n",
       "      <td>0</td>\n",
       "      <td>0</td>\n",
       "      <td>0</td>\n",
       "      <td>1</td>\n",
       "      <td>0</td>\n",
       "      <td>0</td>\n",
       "      <td>0</td>\n",
       "      <td>0</td>\n",
       "      <td>0</td>\n",
       "      <td>0</td>\n",
       "      <td>...</td>\n",
       "      <td>0</td>\n",
       "      <td>0</td>\n",
       "      <td>0</td>\n",
       "      <td>0</td>\n",
       "      <td>0</td>\n",
       "      <td>0</td>\n",
       "      <td>0</td>\n",
       "      <td>0</td>\n",
       "      <td>0</td>\n",
       "      <td>0</td>\n",
       "      <td>0</td>\n",
       "      <td>0</td>\n",
       "      <td>0</td>\n",
       "      <td>0</td>\n",
       "      <td>0</td>\n",
       "      <td>0</td>\n",
       "      <td>0</td>\n",
       "      <td>0</td>\n",
       "      <td>0</td>\n",
       "      <td>0</td>\n",
       "      <td>0</td>\n",
       "      <td>0</td>\n",
       "      <td>0</td>\n",
       "      <td>0</td>\n",
       "      <td>0</td>\n",
       "      <td>0</td>\n",
       "      <td>0</td>\n",
       "      <td>0</td>\n",
       "      <td>0</td>\n",
       "      <td>0</td>\n",
       "      <td>0</td>\n",
       "      <td>0</td>\n",
       "      <td>0</td>\n",
       "      <td>0</td>\n",
       "      <td>0</td>\n",
       "      <td>0</td>\n",
       "      <td>0</td>\n",
       "      <td>0</td>\n",
       "      <td>0</td>\n",
       "      <td>0</td>\n",
       "    </tr>\n",
       "    <tr>\n",
       "      <th>20815</th>\n",
       "      <td>6</td>\n",
       "      <td>22.0</td>\n",
       "      <td>7.7</td>\n",
       "      <td>33</td>\n",
       "      <td>0</td>\n",
       "      <td>0</td>\n",
       "      <td>0</td>\n",
       "      <td>0</td>\n",
       "      <td>0</td>\n",
       "      <td>0</td>\n",
       "      <td>0</td>\n",
       "      <td>0</td>\n",
       "      <td>1</td>\n",
       "      <td>0</td>\n",
       "      <td>0</td>\n",
       "      <td>0</td>\n",
       "      <td>0</td>\n",
       "      <td>0</td>\n",
       "      <td>0</td>\n",
       "      <td>1</td>\n",
       "      <td>0</td>\n",
       "      <td>0</td>\n",
       "      <td>1</td>\n",
       "      <td>0</td>\n",
       "      <td>0</td>\n",
       "      <td>0</td>\n",
       "      <td>0</td>\n",
       "      <td>0</td>\n",
       "      <td>0</td>\n",
       "      <td>0</td>\n",
       "      <td>0</td>\n",
       "      <td>1</td>\n",
       "      <td>0</td>\n",
       "      <td>0</td>\n",
       "      <td>0</td>\n",
       "      <td>0</td>\n",
       "      <td>0</td>\n",
       "      <td>0</td>\n",
       "      <td>0</td>\n",
       "      <td>0</td>\n",
       "      <td>...</td>\n",
       "      <td>0</td>\n",
       "      <td>0</td>\n",
       "      <td>0</td>\n",
       "      <td>0</td>\n",
       "      <td>0</td>\n",
       "      <td>0</td>\n",
       "      <td>0</td>\n",
       "      <td>0</td>\n",
       "      <td>0</td>\n",
       "      <td>0</td>\n",
       "      <td>1</td>\n",
       "      <td>0</td>\n",
       "      <td>0</td>\n",
       "      <td>0</td>\n",
       "      <td>0</td>\n",
       "      <td>0</td>\n",
       "      <td>0</td>\n",
       "      <td>0</td>\n",
       "      <td>0</td>\n",
       "      <td>0</td>\n",
       "      <td>0</td>\n",
       "      <td>0</td>\n",
       "      <td>0</td>\n",
       "      <td>0</td>\n",
       "      <td>0</td>\n",
       "      <td>0</td>\n",
       "      <td>0</td>\n",
       "      <td>0</td>\n",
       "      <td>0</td>\n",
       "      <td>0</td>\n",
       "      <td>0</td>\n",
       "      <td>0</td>\n",
       "      <td>0</td>\n",
       "      <td>0</td>\n",
       "      <td>0</td>\n",
       "      <td>0</td>\n",
       "      <td>0</td>\n",
       "      <td>0</td>\n",
       "      <td>0</td>\n",
       "      <td>0</td>\n",
       "    </tr>\n",
       "    <tr>\n",
       "      <th>44246</th>\n",
       "      <td>55</td>\n",
       "      <td>22.0</td>\n",
       "      <td>0.0</td>\n",
       "      <td>36</td>\n",
       "      <td>0</td>\n",
       "      <td>0</td>\n",
       "      <td>0</td>\n",
       "      <td>0</td>\n",
       "      <td>0</td>\n",
       "      <td>0</td>\n",
       "      <td>0</td>\n",
       "      <td>1</td>\n",
       "      <td>0</td>\n",
       "      <td>0</td>\n",
       "      <td>0</td>\n",
       "      <td>0</td>\n",
       "      <td>0</td>\n",
       "      <td>0</td>\n",
       "      <td>0</td>\n",
       "      <td>0</td>\n",
       "      <td>1</td>\n",
       "      <td>0</td>\n",
       "      <td>1</td>\n",
       "      <td>0</td>\n",
       "      <td>1</td>\n",
       "      <td>0</td>\n",
       "      <td>0</td>\n",
       "      <td>0</td>\n",
       "      <td>0</td>\n",
       "      <td>0</td>\n",
       "      <td>0</td>\n",
       "      <td>0</td>\n",
       "      <td>0</td>\n",
       "      <td>0</td>\n",
       "      <td>0</td>\n",
       "      <td>0</td>\n",
       "      <td>0</td>\n",
       "      <td>0</td>\n",
       "      <td>0</td>\n",
       "      <td>0</td>\n",
       "      <td>...</td>\n",
       "      <td>0</td>\n",
       "      <td>1</td>\n",
       "      <td>0</td>\n",
       "      <td>0</td>\n",
       "      <td>0</td>\n",
       "      <td>0</td>\n",
       "      <td>0</td>\n",
       "      <td>0</td>\n",
       "      <td>0</td>\n",
       "      <td>0</td>\n",
       "      <td>0</td>\n",
       "      <td>0</td>\n",
       "      <td>0</td>\n",
       "      <td>0</td>\n",
       "      <td>0</td>\n",
       "      <td>0</td>\n",
       "      <td>0</td>\n",
       "      <td>0</td>\n",
       "      <td>0</td>\n",
       "      <td>0</td>\n",
       "      <td>0</td>\n",
       "      <td>0</td>\n",
       "      <td>0</td>\n",
       "      <td>0</td>\n",
       "      <td>0</td>\n",
       "      <td>0</td>\n",
       "      <td>0</td>\n",
       "      <td>0</td>\n",
       "      <td>0</td>\n",
       "      <td>0</td>\n",
       "      <td>0</td>\n",
       "      <td>0</td>\n",
       "      <td>0</td>\n",
       "      <td>0</td>\n",
       "      <td>0</td>\n",
       "      <td>0</td>\n",
       "      <td>0</td>\n",
       "      <td>0</td>\n",
       "      <td>0</td>\n",
       "      <td>0</td>\n",
       "    </tr>\n",
       "  </tbody>\n",
       "</table>\n",
       "<p>5 rows × 150 columns</p>\n",
       "</div>"
      ],
      "text/plain": [
       "       Duration  Net_Sales  ...  Destination_VIET NAM  Destination_ZAMBIA\n",
       "41140        11       44.0  ...                     0                   0\n",
       "3570         21       19.0  ...                     0                   0\n",
       "39328        21       12.0  ...                     0                   0\n",
       "20815         6       22.0  ...                     0                   0\n",
       "44246        55       22.0  ...                     0                   0\n",
       "\n",
       "[5 rows x 150 columns]"
      ]
     },
     "execution_count": 85,
     "metadata": {
      "tags": []
     },
     "output_type": "execute_result"
    }
   ],
   "source": [
    "# to see what the testing set looks like\n",
    "X_test.head()"
   ]
  },
  {
   "cell_type": "code",
   "execution_count": null,
   "metadata": {
    "colab": {
     "base_uri": "https://localhost:8080/"
    },
    "id": "OhJxsvC1X8WV",
    "outputId": "5d3dbf23-2b72-478d-8bc1-cf4fafe4742d"
   },
   "outputs": [
    {
     "name": "stdout",
     "output_type": "stream",
     "text": [
      "(33775, 150) (14476, 150) (33775,) (14476,)\n"
     ]
    }
   ],
   "source": [
    "# to see the split and size of samples in both training and testing sets\n",
    "print(X_train.shape, X_test.shape, Y_train.shape, Y_test.shape)"
   ]
  },
  {
   "cell_type": "markdown",
   "metadata": {
    "id": "S5x8RW8MYT9Q"
   },
   "source": [
    "# Feature Scaling"
   ]
  },
  {
   "cell_type": "code",
   "execution_count": null,
   "metadata": {
    "id": "xOwo843qYS8G"
   },
   "outputs": [],
   "source": [
    "# import standard standardisation to scale the data\n",
    "from sklearn.preprocessing import StandardScaler\n",
    "\n",
    "# using the standard scaler\n",
    "scale = StandardScaler()\n",
    "\n",
    "# fit on train data\n",
    "X_train = scale.fit_transform(X_train)\n",
    "\n",
    "# transform on test data\n",
    "X_test=scale.transform(X_test)"
   ]
  },
  {
   "cell_type": "markdown",
   "metadata": {
    "id": "7AHtMJjiYfim"
   },
   "source": [
    "\n",
    "# Imbalance Issue<br>\n",
    "There are 3 methods which can be used to deal with the problem of imbalanced classification and improve the class distribution:<br>\n",
    "\n",
    "1.Under Sampling <br>\n",
    "2.Over Sampling<br>\n",
    "3.SMOTE<br>\n"
   ]
  },
  {
   "cell_type": "markdown",
   "metadata": {
    "id": "VduKN5ZoYySa"
   },
   "source": [
    "#  Under Sampling"
   ]
  },
  {
   "cell_type": "code",
   "execution_count": null,
   "metadata": {
    "colab": {
     "base_uri": "https://localhost:8080/"
    },
    "id": "wR2UGY-xYG8_",
    "outputId": "be84a062-0d4b-4242-c91c-e6c2aea68777"
   },
   "outputs": [
    {
     "name": "stdout",
     "output_type": "stream",
     "text": [
      "(1024, 150) (1024,)\n"
     ]
    }
   ],
   "source": [
    "# import resample - Under sample\n",
    "from imblearn.under_sampling import RandomUnderSampler\n",
    "from collections import Counter\n",
    "Counter(Y_train)\n",
    "\n",
    "# use Random Under sampling\n",
    "US = RandomUnderSampler(random_state = 42, sampling_strategy = 1.0) \n",
    "\n",
    "# fit the under sampling to training data\n",
    "X_train_US, Y_train_US = US.fit_resample(X_train, Y_train)\n",
    "\n",
    "# check the size of training samples\n",
    "print(X_train_US.shape, Y_train_US.shape)"
   ]
  },
  {
   "cell_type": "code",
   "execution_count": null,
   "metadata": {
    "colab": {
     "base_uri": "https://localhost:8080/"
    },
    "id": "hwFdjPphfUuY",
    "outputId": "f2f4cea6-4917-48ac-9bb1-0e58bf1e3d76"
   },
   "outputs": [
    {
     "name": "stdout",
     "output_type": "stream",
     "text": [
      "The number of classes before fit Counter({0: 33263, 1: 512})\n",
      "The number of classes after fit Counter({0: 512, 1: 512})\n"
     ]
    }
   ],
   "source": [
    "print(\"The number of classes before fit {}\".format(Counter(Y_train)))\n",
    "print(\"The number of classes after fit {}\".format(Counter(Y_train_US)))"
   ]
  },
  {
   "cell_type": "markdown",
   "metadata": {
    "id": "yz7LaEGShaeY"
   },
   "source": [
    "# Over Sampling"
   ]
  },
  {
   "cell_type": "code",
   "execution_count": null,
   "metadata": {
    "colab": {
     "base_uri": "https://localhost:8080/"
    },
    "id": "1aVq8Vh-fc_F",
    "outputId": "4cadaedb-8590-4584-a2a2-37d4018d518d"
   },
   "outputs": [
    {
     "name": "stdout",
     "output_type": "stream",
     "text": [
      "(66526, 150) (66526,)\n"
     ]
    }
   ],
   "source": [
    "# import resample - Over sample\n",
    "from imblearn.over_sampling import RandomOverSampler\n",
    "\n",
    "# use Random Over sampling\n",
    "OS = RandomOverSampler() \n",
    "\n",
    "# fit the over sampling to the training data\n",
    "X_train_OS, Y_train_OS = OS.fit_resample(X_train, Y_train)\n",
    "\n",
    "# check the size of training samples\n",
    "print(X_train_OS.shape, Y_train_OS.shape)"
   ]
  },
  {
   "cell_type": "code",
   "execution_count": null,
   "metadata": {
    "colab": {
     "base_uri": "https://localhost:8080/"
    },
    "id": "Cj2wN2Uuhjfn",
    "outputId": "f458a0d2-809d-41b3-c8a8-1dcc2fb23e47"
   },
   "outputs": [
    {
     "name": "stdout",
     "output_type": "stream",
     "text": [
      "The number of classes before fit Counter({0: 33263, 1: 512})\n",
      "The number of classes after fit Counter({0: 33263, 1: 33263})\n"
     ]
    }
   ],
   "source": [
    "print(\"The number of classes before fit {}\".format(Counter(Y_train)))\n",
    "print(\"The number of classes after fit {}\".format(Counter(Y_train_OS)))"
   ]
  },
  {
   "cell_type": "markdown",
   "metadata": {
    "id": "MhV8V5YEhzNM"
   },
   "source": [
    "# SMOTE"
   ]
  },
  {
   "cell_type": "code",
   "execution_count": null,
   "metadata": {
    "colab": {
     "base_uri": "https://localhost:8080/"
    },
    "id": "AxanEKz1hn4j",
    "outputId": "9b93470c-80bf-4c8c-f133-70fd272810fd"
   },
   "outputs": [
    {
     "name": "stdout",
     "output_type": "stream",
     "text": [
      "(66526, 150) (66526,)\n"
     ]
    }
   ],
   "source": [
    "# import SMOTE \n",
    "import six\n",
    "import imblearn\n",
    "from imblearn.over_sampling import SMOTE\n",
    "\n",
    "# use SMOTE to equalize both the classes\n",
    "sm = SMOTE(random_state = 25, sampling_strategy = 1.0) \n",
    "\n",
    "# fit the sampling\n",
    "X_train_SMOTE, Y_train_SMOTE = sm.fit_resample(X_train, Y_train)\n",
    "\n",
    "# check the size of training samples\n",
    "print(X_train_SMOTE.shape, Y_train_SMOTE.shape)"
   ]
  },
  {
   "cell_type": "code",
   "execution_count": null,
   "metadata": {
    "colab": {
     "base_uri": "https://localhost:8080/"
    },
    "id": "b7Ituo3Vh5lM",
    "outputId": "df545235-62dd-40f5-c60c-9af2c893ebcd"
   },
   "outputs": [
    {
     "name": "stdout",
     "output_type": "stream",
     "text": [
      "The number of classes before fit Counter({0: 33263, 1: 512})\n",
      "The number of classes after fit Counter({0: 33263, 1: 33263})\n"
     ]
    }
   ],
   "source": [
    "print(\"The number of classes before fit {}\".format(Counter(Y_train)))\n",
    "print(\"The number of classes after fit {}\".format(Counter(Y_train_SMOTE)))"
   ]
  },
  {
   "cell_type": "markdown",
   "metadata": {
    "id": "bdpaWP7Czqzf"
   },
   "source": [
    "#Model Building"
   ]
  },
  {
   "cell_type": "markdown",
   "metadata": {
    "id": "qzm45K6z0Lbh"
   },
   "source": [
    "\n",
    "Due to the imbalanced nature of the dataset, we will focus on looking at the F1 and Recall scores as our key metric to assess the model performance. We avoid looking at the accuracy metric as it is useless, since a dataset can have high accuracy and perform worse than a dataset with a lower accuracy. Therefore, looking at the accuracy score would be misleading.\n",
    "\n",
    "We now test our models under each of our training sets from undersampling, oversampling and SMOTE."
   ]
  },
  {
   "cell_type": "code",
   "execution_count": null,
   "metadata": {
    "id": "AZ413vQOjSpZ"
   },
   "outputs": [],
   "source": [
    "from sklearn.metrics import accuracy_score, precision_score, recall_score, f1_score, classification_report, confusion_matrix"
   ]
  },
  {
   "cell_type": "markdown",
   "metadata": {
    "id": "XrbjWSL61nG_"
   },
   "source": [
    "## Training and testing data with Under Sampling"
   ]
  },
  {
   "cell_type": "markdown",
   "metadata": {
    "id": "wH9vRTJM10wg"
   },
   "source": [
    "1. Logistic Regression"
   ]
  },
  {
   "cell_type": "code",
   "execution_count": null,
   "metadata": {
    "colab": {
     "base_uri": "https://localhost:8080/"
    },
    "id": "gH8VI-Cw1bB2",
    "outputId": "504c43d1-4b24-4e62-d775-9472dc46f2e3"
   },
   "outputs": [
    {
     "name": "stdout",
     "output_type": "stream",
     "text": [
      "              precision    recall  f1-score   support\n",
      "\n",
      "           0       1.00      0.77      0.87     14256\n",
      "           1       0.05      0.78      0.09       220\n",
      "\n",
      "    accuracy                           0.77     14476\n",
      "   macro avg       0.52      0.77      0.48     14476\n",
      "weighted avg       0.98      0.77      0.85     14476\n",
      "\n",
      "---------------------------------------------------------------------------------------------------\n",
      "accuracy 76.65791655153357\n",
      "precision 4.910077076791321\n",
      "recall 78.18181818181819\n",
      "f1 9.239860327692721\n"
     ]
    }
   ],
   "source": [
    "# import Logistic Regression\n",
    "from sklearn.linear_model import LogisticRegression\n",
    "\n",
    "# define the classifier model\n",
    "lr_US = LogisticRegression(random_state = 42, max_iter = 200)\n",
    "lr_US.fit(X_train_US, Y_train_US)\n",
    "y_pred = lr_US.predict(X_test)\n",
    "# results tesing score\n",
    "print(classification_report(Y_test,y_pred))\n",
    "\n",
    "print('---------------------------------------------------------------------------------------------------')\n",
    "print(\"accuracy\", accuracy_score(Y_test,y_pred)*100)\n",
    "print(\"precision\", precision_score(Y_test,y_pred)*100)\n",
    "print(\"recall\", recall_score(Y_test,y_pred)*100)\n",
    "print(\"f1\",f1_score(Y_test,y_pred)*100)"
   ]
  },
  {
   "cell_type": "markdown",
   "metadata": {
    "id": "y1LNShaH4hgK"
   },
   "source": [
    "2. Random Forest"
   ]
  },
  {
   "cell_type": "code",
   "execution_count": null,
   "metadata": {
    "colab": {
     "base_uri": "https://localhost:8080/"
    },
    "id": "rRbaCc2r2R2T",
    "outputId": "76faad9d-60ee-4e43-b9fa-0e8bdadd9105"
   },
   "outputs": [
    {
     "name": "stdout",
     "output_type": "stream",
     "text": [
      "              precision    recall  f1-score   support\n",
      "\n",
      "           0       0.99      0.75      0.85     14256\n",
      "           1       0.04      0.71      0.08       220\n",
      "\n",
      "    accuracy                           0.75     14476\n",
      "   macro avg       0.52      0.73      0.47     14476\n",
      "weighted avg       0.98      0.75      0.84     14476\n",
      "\n",
      "----------------------------------------------------------------------------------------------------------------------\n",
      "accuracy 74.75131251726997\n",
      "precision 4.1633306645316255\n",
      "recall 70.9090909090909\n",
      "f1 7.864885303755987\n"
     ]
    }
   ],
   "source": [
    "# import Random Forest Classifier\n",
    "from sklearn.ensemble import RandomForestClassifier\n",
    "\n",
    "# define the classifier model\n",
    "rfc_US = RandomForestClassifier(random_state=42)\n",
    "rfc_US.fit(X_train_US, Y_train_US)\n",
    "y_pred = rfc_US.predict(X_test)\n",
    "# results tesing score\n",
    "print(classification_report(Y_test,y_pred))\n",
    "\n",
    "print('----------------------------------------------------------------------------------------------------------------------')\n",
    "print(\"accuracy\", accuracy_score(Y_test,y_pred)*100)\n",
    "print(\"precision\", precision_score(Y_test,y_pred)*100)\n",
    "print(\"recall\", recall_score(Y_test,y_pred)*100)\n",
    "print(\"f1\",f1_score(Y_test,y_pred)*100)\n"
   ]
  },
  {
   "cell_type": "markdown",
   "metadata": {
    "id": "kw-v7LId49rg"
   },
   "source": [
    "3. Decision Tree"
   ]
  },
  {
   "cell_type": "code",
   "execution_count": null,
   "metadata": {
    "colab": {
     "base_uri": "https://localhost:8080/"
    },
    "id": "VGKCC5dp2qAw",
    "outputId": "d3830edc-fe06-444e-fe58-5cfd53056639"
   },
   "outputs": [
    {
     "name": "stdout",
     "output_type": "stream",
     "text": [
      "              precision    recall  f1-score   support\n",
      "\n",
      "           0       0.99      0.65      0.79     14256\n",
      "           1       0.03      0.67      0.06       220\n",
      "\n",
      "    accuracy                           0.65     14476\n",
      "   macro avg       0.51      0.66      0.42     14476\n",
      "weighted avg       0.98      0.65      0.78     14476\n",
      "\n",
      "------------------------------------------------\n",
      "accuracy 65.34263608731695\n",
      "precision 2.9059493422344396\n",
      "recall 67.27272727272727\n",
      "f1 5.571240353849049\n"
     ]
    }
   ],
   "source": [
    "# import Decision Tree Classifier\n",
    "from sklearn.tree import DecisionTreeClassifier\n",
    "\n",
    "# define the classifier model\n",
    "dtc_US = DecisionTreeClassifier(random_state = 42)\n",
    "dtc_US.fit(X_train_US, Y_train_US)\n",
    "y_pred = dtc_US.predict(X_test)\n",
    "# results tesing score\n",
    "print(classification_report(Y_test,y_pred))\n",
    "\n",
    "print('------------------------------------------------')\n",
    "print(\"accuracy\", accuracy_score(Y_test,y_pred)*100)\n",
    "print(\"precision\", precision_score(Y_test,y_pred)*100)\n",
    "print(\"recall\", recall_score(Y_test,y_pred)*100)\n",
    "print(\"f1\",f1_score(Y_test,y_pred)*100)\n",
    "\n"
   ]
  },
  {
   "cell_type": "markdown",
   "metadata": {
    "id": "zk6mMHjz5UJ_"
   },
   "source": [
    "4. xgboosting"
   ]
  },
  {
   "cell_type": "code",
   "execution_count": null,
   "metadata": {
    "colab": {
     "base_uri": "https://localhost:8080/"
    },
    "id": "6g35X2re5Pc0",
    "outputId": "2208c837-2314-45bf-dffb-388734cd09b8"
   },
   "outputs": [
    {
     "name": "stdout",
     "output_type": "stream",
     "text": [
      "              precision    recall  f1-score   support\n",
      "\n",
      "           0       0.99      0.78      0.87     14256\n",
      "           1       0.05      0.74      0.09       220\n",
      "\n",
      "    accuracy                           0.78     14476\n",
      "   macro avg       0.52      0.76      0.48     14476\n",
      "weighted avg       0.98      0.78      0.86     14476\n",
      "\n",
      "------------------------------------------------\n",
      "accuracy 77.77701022381873\n",
      "precision 4.905206139030996\n",
      "recall 74.0909090909091\n",
      "f1 9.201241885407848\n"
     ]
    }
   ],
   "source": [
    "# import XGB Classifier\n",
    "import xgboost as xgb\n",
    "from xgboost import XGBClassifier\n",
    "\n",
    "# define the classifier model\n",
    "xgbc_US = XGBClassifier(random_state = 42)\n",
    "\n",
    "xgbc_US.fit(X_train_US, Y_train_US)\n",
    "y_pred = xgbc_US.predict(X_test)\n",
    "# results tesing score\n",
    "print(classification_report(Y_test,y_pred))\n",
    "\n",
    "print('------------------------------------------------')\n",
    "print(\"accuracy\", accuracy_score(Y_test,y_pred)*100)\n",
    "print(\"precision\", precision_score(Y_test,y_pred)*100)\n",
    "print(\"recall\", recall_score(Y_test,y_pred)*100)\n",
    "print(\"f1\",f1_score(Y_test,y_pred)*100)\n",
    "\n"
   ]
  },
  {
   "cell_type": "markdown",
   "metadata": {
    "id": "vjgZpmJCWPvf"
   },
   "source": [
    "`5.SVM"
   ]
  },
  {
   "cell_type": "code",
   "execution_count": null,
   "metadata": {
    "colab": {
     "base_uri": "https://localhost:8080/"
    },
    "id": "DxL5mpKvWPvf",
    "outputId": "bc0b5749-966b-406c-ebe5-b071c258df5d"
   },
   "outputs": [
    {
     "name": "stdout",
     "output_type": "stream",
     "text": [
      "              precision    recall  f1-score   support\n",
      "\n",
      "           0       1.00      0.78      0.87     14256\n",
      "           1       0.05      0.76      0.09       220\n",
      "\n",
      "    accuracy                           0.78     14476\n",
      "   macro avg       0.52      0.77      0.48     14476\n",
      "weighted avg       0.98      0.78      0.86     14476\n",
      "\n",
      "----------------------------------------------------------------------------------------------------------------------------------------------\n",
      "accuracy 77.77010223818735\n",
      "precision 5.012004801920768\n",
      "recall 75.9090909090909\n",
      "f1 9.403153153153154\n"
     ]
    }
   ],
   "source": [
    "from sklearn.svm import LinearSVC\n",
    "# HARD MARGIN\n",
    "lin=LinearSVC(random_state=42)\n",
    "lin.fit(X_train_US, Y_train_US)\n",
    "y_pred = lin.predict(X_test)\n",
    "print(classification_report(Y_test,y_pred))\n",
    "\n",
    "print('----------------------------------------------------------------------------------------------------------------------------------------------')\n",
    "print(\"accuracy\", accuracy_score(Y_test,y_pred)*100)\n",
    "print(\"precision\", precision_score(Y_test,y_pred)*100)\n",
    "print(\"recall\", recall_score(Y_test,y_pred)*100)\n",
    "print(\"f1\",f1_score(Y_test,y_pred)*100)"
   ]
  },
  {
   "cell_type": "code",
   "execution_count": null,
   "metadata": {
    "colab": {
     "base_uri": "https://localhost:8080/"
    },
    "id": "tG7soUb9WPvf",
    "outputId": "20f8bbb1-8686-47f8-e7a0-02ffe6edce53"
   },
   "outputs": [
    {
     "name": "stdout",
     "output_type": "stream",
     "text": [
      "              precision    recall  f1-score   support\n",
      "\n",
      "           0       1.00      0.78      0.87     14256\n",
      "           1       0.05      0.76      0.09       220\n",
      "\n",
      "    accuracy                           0.78     14476\n",
      "   macro avg       0.52      0.77      0.48     14476\n",
      "weighted avg       0.98      0.78      0.86     14476\n",
      "\n",
      "------------------------------------------------\n",
      "accuracy 77.77010223818735\n",
      "precision 5.012004801920768\n",
      "recall 75.9090909090909\n",
      "f1 9.403153153153154\n"
     ]
    }
   ],
   "source": [
    "# SOFT MARGIN\n",
    "lin2=LinearSVC(C=0.4,random_state=42)\n",
    "lin2.fit(X_train_US, Y_train_US)\n",
    "y_pred2 = lin2.predict(X_test)\n",
    "print(classification_report(Y_test,y_pred))\n",
    "print('------------------------------------------------')\n",
    "print(\"accuracy\", accuracy_score(Y_test,y_pred)*100)\n",
    "print(\"precision\", precision_score(Y_test,y_pred)*100)\n",
    "print(\"recall\", recall_score(Y_test,y_pred)*100)\n",
    "print(\"f1\",f1_score(Y_test,y_pred)*100)"
   ]
  },
  {
   "cell_type": "markdown",
   "metadata": {
    "id": "322dPIZiWPvg"
   },
   "source": [
    "5.2.SVM POLY"
   ]
  },
  {
   "cell_type": "code",
   "execution_count": null,
   "metadata": {
    "colab": {
     "base_uri": "https://localhost:8080/"
    },
    "id": "w_02q_p8WPvg",
    "outputId": "36f8b6ca-5ea0-43c7-eb82-aaccec7a6886"
   },
   "outputs": [
    {
     "name": "stdout",
     "output_type": "stream",
     "text": [
      "              precision    recall  f1-score   support\n",
      "\n",
      "           0       0.99      0.82      0.90     14256\n",
      "           1       0.06      0.70      0.11       220\n",
      "\n",
      "    accuracy                           0.82     14476\n",
      "   macro avg       0.53      0.76      0.50     14476\n",
      "weighted avg       0.98      0.82      0.89     14476\n",
      "\n",
      "---------------------------------------------------------------------------------------------------------------------------------------------\n",
      "accuracy 81.92870958828405\n",
      "precision 5.695266272189349\n",
      "recall 70.0\n",
      "f1 10.533515731874145\n"
     ]
    }
   ],
   "source": [
    "# IMPORTING SVC FROM sklearn\n",
    "from sklearn.svm import SVC\n",
    "svc = SVC(random_state=42,kernel=\"poly\")\n",
    "svc.fit(X_train_US, Y_train_US)\n",
    "y_pred = svc.predict(X_test)\n",
    "print(classification_report(Y_test,y_pred))\n",
    "\n",
    "print('---------------------------------------------------------------------------------------------------------------------------------------------')\n",
    "print(\"accuracy\", accuracy_score(Y_test,y_pred)*100)\n",
    "print(\"precision\", precision_score(Y_test,y_pred)*100)\n",
    "print(\"recall\", recall_score(Y_test,y_pred)*100)\n",
    "print(\"f1\",f1_score(Y_test,y_pred)*100)"
   ]
  },
  {
   "cell_type": "markdown",
   "metadata": {
    "id": "0HQnXP83WPvg"
   },
   "source": [
    "5.3 SVM RBF"
   ]
  },
  {
   "cell_type": "code",
   "execution_count": null,
   "metadata": {
    "colab": {
     "base_uri": "https://localhost:8080/"
    },
    "id": "PRFB2xsaWPvg",
    "outputId": "4007b468-f6b8-4fac-b631-662bdf2927a5"
   },
   "outputs": [
    {
     "name": "stdout",
     "output_type": "stream",
     "text": [
      "              precision    recall  f1-score   support\n",
      "\n",
      "           0       0.99      0.79      0.88     14256\n",
      "           1       0.05      0.71      0.09       220\n",
      "\n",
      "    accuracy                           0.79     14476\n",
      "   macro avg       0.52      0.75      0.49     14476\n",
      "weighted avg       0.98      0.79      0.87     14476\n",
      "\n",
      "---------------------------------------------------------------------------------------------------------------------------------------------\n",
      "accuracy 78.97899972368057\n",
      "precision 5.0047816385081285\n",
      "recall 71.36363636363636\n",
      "f1 9.353589514447423\n"
     ]
    }
   ],
   "source": [
    "# IMPORTING SVC FROM sklearn\n",
    "from sklearn.svm import SVC\n",
    "svc = SVC(random_state=42,kernel=\"rbf\")\n",
    "svc.fit(X_train_US, Y_train_US)\n",
    "y_pred = svc.predict(X_test)\n",
    "print(classification_report(Y_test,y_pred))\n",
    "\n",
    "print('---------------------------------------------------------------------------------------------------------------------------------------------')\n",
    "print(\"accuracy\", accuracy_score(Y_test,y_pred)*100)\n",
    "print(\"precision\", precision_score(Y_test,y_pred)*100)\n",
    "print(\"recall\", recall_score(Y_test,y_pred)*100)\n",
    "print(\"f1\",f1_score(Y_test,y_pred)*100)"
   ]
  },
  {
   "cell_type": "markdown",
   "metadata": {
    "id": "btTq1bK1WPvg"
   },
   "source": [
    "# Training and testing Data with Over Sampling"
   ]
  },
  {
   "cell_type": "markdown",
   "metadata": {
    "id": "mI1Ht1nCWPvh"
   },
   "source": [
    "1. Logistic Regression"
   ]
  },
  {
   "cell_type": "code",
   "execution_count": null,
   "metadata": {
    "colab": {
     "base_uri": "https://localhost:8080/"
    },
    "id": "yzdP8d8YWPvh",
    "outputId": "cfdeb840-789b-4d14-b3d5-552fe46de0d3"
   },
   "outputs": [
    {
     "name": "stdout",
     "output_type": "stream",
     "text": [
      "              precision    recall  f1-score   support\n",
      "\n",
      "           0       1.00      0.80      0.89     14256\n",
      "           1       0.06      0.75      0.10       220\n",
      "\n",
      "    accuracy                           0.80     14476\n",
      "   macro avg       0.53      0.78      0.50     14476\n",
      "weighted avg       0.98      0.80      0.88     14476\n",
      "\n",
      "---------------------------------------------------------------------------------------------------\n",
      "accuracy 80.22243713733076\n",
      "precision 5.549949545913218\n",
      "recall 75.0\n",
      "f1 10.335108048856874\n"
     ]
    }
   ],
   "source": [
    "# import Logistic Regression\n",
    "from sklearn.linear_model import LogisticRegression\n",
    "\n",
    "# define the classifier model\n",
    "lr_OS = LogisticRegression(random_state = 42, max_iter = 100)\n",
    "\n",
    "lr_OS.fit(X_train_OS, Y_train_OS)\n",
    "y_pred = lr_OS.predict(X_test)\n",
    "# results tesing score\n",
    "print(classification_report(Y_test,y_pred))\n",
    "\n",
    "print('---------------------------------------------------------------------------------------------------')\n",
    "print(\"accuracy\", accuracy_score(Y_test,y_pred)*100)\n",
    "print(\"precision\", precision_score(Y_test,y_pred)*100)\n",
    "print(\"recall\", recall_score(Y_test,y_pred)*100)\n",
    "print(\"f1\",f1_score(Y_test,y_pred)*100)\n",
    "\n"
   ]
  },
  {
   "cell_type": "markdown",
   "metadata": {
    "id": "js9I5tYxWPvh"
   },
   "source": [
    "2. Random Forest Classifier"
   ]
  },
  {
   "cell_type": "code",
   "execution_count": null,
   "metadata": {
    "colab": {
     "base_uri": "https://localhost:8080/"
    },
    "id": "wzjajiDRWPvh",
    "outputId": "690b2e28-e605-47f2-f478-1b9020779c12"
   },
   "outputs": [
    {
     "name": "stdout",
     "output_type": "stream",
     "text": [
      "              precision    recall  f1-score   support\n",
      "\n",
      "           0       0.99      0.99      0.99     14256\n",
      "           1       0.06      0.04      0.05       220\n",
      "\n",
      "    accuracy                           0.98     14476\n",
      "   macro avg       0.52      0.51      0.52     14476\n",
      "weighted avg       0.97      0.98      0.97     14476\n",
      "\n",
      "----------------------------------------------------------------------------------------------------------------------\n",
      "accuracy 97.66510085659021\n",
      "precision 5.970149253731343\n",
      "recall 3.6363636363636362\n",
      "f1 4.519774011299435\n"
     ]
    }
   ],
   "source": [
    "# import Random Forest Classifier\n",
    "from sklearn.ensemble import RandomForestClassifier\n",
    "\n",
    "# define the classifier model\n",
    "rfc_OS = RandomForestClassifier(random_state=42, bootstrap= True,  max_depth= 16)\n",
    "# define the classifier model\n",
    "rfc_OS = RandomForestClassifier(random_state=42)\n",
    "rfc_OS.fit(X_train_OS, Y_train_OS)\n",
    "y_pred = rfc_OS.predict(X_test)\n",
    "# results tesing score\n",
    "print(classification_report(Y_test,y_pred))\n",
    "\n",
    "print('----------------------------------------------------------------------------------------------------------------------')\n",
    "print(\"accuracy\", accuracy_score(Y_test,y_pred)*100)\n",
    "print(\"precision\", precision_score(Y_test,y_pred)*100)\n",
    "print(\"recall\", recall_score(Y_test,y_pred)*100)\n",
    "print(\"f1\",f1_score(Y_test,y_pred)*100)\n",
    "\n"
   ]
  },
  {
   "cell_type": "markdown",
   "metadata": {
    "id": "2_ez4RtQWPvh"
   },
   "source": [
    "3.Decision Tree"
   ]
  },
  {
   "cell_type": "code",
   "execution_count": null,
   "metadata": {
    "colab": {
     "base_uri": "https://localhost:8080/"
    },
    "id": "tiinoHDFWPvh",
    "outputId": "b535399f-f62f-423a-b53e-688b8b0f7d06"
   },
   "outputs": [
    {
     "name": "stdout",
     "output_type": "stream",
     "text": [
      "              precision    recall  f1-score   support\n",
      "\n",
      "           0       0.99      0.98      0.98     14256\n",
      "           1       0.05      0.06      0.06       220\n",
      "\n",
      "    accuracy                           0.97     14476\n",
      "   macro avg       0.52      0.52      0.52     14476\n",
      "weighted avg       0.97      0.97      0.97     14476\n",
      "\n",
      "-------------------------------------------------------------------------------------------------------------------------------\n",
      "accuracy 96.7946946670351\n",
      "precision 5.147058823529411\n",
      "recall 6.363636363636363\n",
      "f1 5.691056910569105\n"
     ]
    }
   ],
   "source": [
    "# import Decision Tree Classifier\n",
    "from sklearn.tree import DecisionTreeClassifier\n",
    "\n",
    "# define the classifier model\n",
    "dtc_OS = DecisionTreeClassifier(random_state = 42)\n",
    "dtc_OS.fit(X_train_OS, Y_train_OS)\n",
    "y_pred = dtc_OS.predict(X_test)\n",
    "# results tesing score\n",
    "print(classification_report(Y_test,y_pred))\n",
    "\n",
    "print('-------------------------------------------------------------------------------------------------------------------------------')\n",
    "print(\"accuracy\", accuracy_score(Y_test,y_pred)*100)\n",
    "print(\"precision\", precision_score(Y_test,y_pred)*100)\n",
    "print(\"recall\", recall_score(Y_test,y_pred)*100)\n",
    "print(\"f1\",f1_score(Y_test,y_pred)*100)\n",
    "\n"
   ]
  },
  {
   "cell_type": "markdown",
   "metadata": {
    "id": "Q1dYwI_qWPvi"
   },
   "source": [
    "4.xgboosting"
   ]
  },
  {
   "cell_type": "code",
   "execution_count": null,
   "metadata": {
    "colab": {
     "base_uri": "https://localhost:8080/"
    },
    "id": "DWn3OmBqWPvi",
    "outputId": "accc9135-3f00-437c-e88d-9b61e5791c99"
   },
   "outputs": [
    {
     "name": "stdout",
     "output_type": "stream",
     "text": [
      "              precision    recall  f1-score   support\n",
      "\n",
      "           0       0.99      0.83      0.90     14256\n",
      "           1       0.06      0.70      0.11       220\n",
      "\n",
      "    accuracy                           0.82     14476\n",
      "   macro avg       0.53      0.76      0.51     14476\n",
      "weighted avg       0.98      0.82      0.89     14476\n",
      "\n",
      "------------------------------------------------\n",
      "accuracy 82.42608455374413\n",
      "precision 5.851063829787234\n",
      "recall 70.0\n",
      "f1 10.799438990182326\n"
     ]
    }
   ],
   "source": [
    "# import XGB Classifier\n",
    "import xgboost as xgb\n",
    "from xgboost import XGBClassifier\n",
    "\n",
    "# define the classifier model\n",
    "xgbc_OS = XGBClassifier(random_state = 42)\n",
    "xgbc_OS.fit(X_train_OS, Y_train_OS)\n",
    "y_pred = xgbc_OS.predict(X_test)\n",
    "# results tesing score\n",
    "print(classification_report(Y_test,y_pred))\n",
    "\n",
    "print('------------------------------------------------')\n",
    "print(\"accuracy\", accuracy_score(Y_test,y_pred)*100)\n",
    "print(\"precision\", precision_score(Y_test,y_pred)*100)\n",
    "print(\"recall\", recall_score(Y_test,y_pred)*100)\n",
    "print(\"f1\",f1_score(Y_test,y_pred)*100)\n",
    "\n"
   ]
  },
  {
   "cell_type": "markdown",
   "metadata": {
    "id": "IRC-koVrWPvi"
   },
   "source": [
    "5. SVM"
   ]
  },
  {
   "cell_type": "code",
   "execution_count": null,
   "metadata": {
    "colab": {
     "base_uri": "https://localhost:8080/"
    },
    "id": "1GvCzy3UWPvi",
    "outputId": "900d3af0-1ee1-4e14-a6f6-a8c70a6a569b"
   },
   "outputs": [
    {
     "name": "stdout",
     "output_type": "stream",
     "text": [
      "              precision    recall  f1-score   support\n",
      "\n",
      "           0       1.00      0.82      0.90     14256\n",
      "           1       0.06      0.74      0.11       220\n",
      "\n",
      "    accuracy                           0.82     14476\n",
      "   macro avg       0.53      0.78      0.50     14476\n",
      "weighted avg       0.98      0.82      0.89     14476\n",
      "\n",
      "----------------------------------------------------------------------------------------------------------------------------------------------\n",
      "accuracy 81.58331030671457\n",
      "precision 5.88023088023088\n",
      "recall 74.0909090909091\n",
      "f1 10.895721925133689\n"
     ]
    }
   ],
   "source": [
    "# HARD MARGIN\n",
    "lin=LinearSVC(random_state=50)\n",
    "lin.fit(X_train_OS, Y_train_OS)\n",
    "y_pred = lin.predict(X_test)\n",
    "print(classification_report(Y_test,y_pred))\n",
    "print('----------------------------------------------------------------------------------------------------------------------------------------------')\n",
    "print(\"accuracy\", accuracy_score(Y_test,y_pred)*100)\n",
    "print(\"precision\", precision_score(Y_test,y_pred)*100)\n",
    "print(\"recall\", recall_score(Y_test,y_pred)*100)\n",
    "print(\"f1\",f1_score(Y_test,y_pred)*100)"
   ]
  },
  {
   "cell_type": "code",
   "execution_count": null,
   "metadata": {
    "colab": {
     "base_uri": "https://localhost:8080/"
    },
    "id": "WrXGJ_hPWPvi",
    "outputId": "b458b230-f81b-4399-e589-c47ca9bd202b"
   },
   "outputs": [
    {
     "name": "stdout",
     "output_type": "stream",
     "text": [
      "              precision    recall  f1-score   support\n",
      "\n",
      "           0       1.00      0.82      0.90     14256\n",
      "           1       0.06      0.74      0.11       220\n",
      "\n",
      "    accuracy                           0.82     14476\n",
      "   macro avg       0.53      0.78      0.50     14476\n",
      "weighted avg       0.98      0.82      0.89     14476\n",
      "\n",
      "---------------------------------------------------------------------------------------------------------------------------------------------\n",
      "accuracy 81.58331030671457\n",
      "precision 5.88023088023088\n",
      "recall 74.0909090909091\n",
      "f1 10.895721925133689\n"
     ]
    }
   ],
   "source": [
    "# SOFT MARGIN\n",
    "lin2=LinearSVC(C=0.4,random_state=42)\n",
    "lin2.fit(X_train_OS, Y_train_OS)\n",
    "y_pred2 = lin2.predict(X_test)\n",
    "print(classification_report(Y_test,y_pred))\n",
    "print('---------------------------------------------------------------------------------------------------------------------------------------------')\n",
    "print(\"accuracy\", accuracy_score(Y_test,y_pred)*100)\n",
    "print(\"precision\", precision_score(Y_test,y_pred)*100)\n",
    "print(\"recall\", recall_score(Y_test,y_pred)*100)\n",
    "print(\"f1\",f1_score(Y_test,y_pred)*100)"
   ]
  },
  {
   "cell_type": "markdown",
   "metadata": {
    "id": "CmmRJY50WPvj"
   },
   "source": [
    "5.2 SVM POLY"
   ]
  },
  {
   "cell_type": "code",
   "execution_count": null,
   "metadata": {
    "colab": {
     "base_uri": "https://localhost:8080/"
    },
    "id": "fWYAgic4WPvj",
    "outputId": "05cf8bb6-ab21-40de-f08e-17c4966edfa0"
   },
   "outputs": [
    {
     "name": "stdout",
     "output_type": "stream",
     "text": [
      "              precision    recall  f1-score   support\n",
      "\n",
      "           0       0.99      0.82      0.90     14256\n",
      "           1       0.06      0.72      0.11       220\n",
      "\n",
      "    accuracy                           0.82     14476\n",
      "   macro avg       0.53      0.77      0.50     14476\n",
      "weighted avg       0.98      0.82      0.89     14476\n",
      "\n",
      "---------------------------------------------------------------------------------------------------------------------------------------------\n",
      "accuracy 81.74219397623654\n",
      "precision 5.800802626778548\n",
      "recall 72.27272727272728\n",
      "f1 10.739614994934144\n"
     ]
    }
   ],
   "source": [
    "# IMPORTING SVC FROM sklearn\n",
    "from sklearn.svm import SVC\n",
    "svc = SVC(random_state=42,kernel=\"poly\")\n",
    "svc.fit(X_train_OS, Y_train_OS)\n",
    "y_pred = svc.predict(X_test)\n",
    "print(classification_report(Y_test,y_pred))\n",
    "\n",
    "print('---------------------------------------------------------------------------------------------------------------------------------------------')\n",
    "print(\"accuracy\", accuracy_score(Y_test,y_pred)*100)\n",
    "print(\"precision\", precision_score(Y_test,y_pred)*100)\n",
    "print(\"recall\", recall_score(Y_test,y_pred)*100)\n",
    "print(\"f1\",f1_score(Y_test,y_pred)*100)"
   ]
  },
  {
   "cell_type": "markdown",
   "metadata": {
    "id": "BO3AfO7sWPvj"
   },
   "source": [
    "5.3 SVM RBF"
   ]
  },
  {
   "cell_type": "code",
   "execution_count": 117,
   "metadata": {
    "colab": {
     "base_uri": "https://localhost:8080/",
     "height": 0
    },
    "id": "G1QDxIryWPvj",
    "outputId": "6d9c8fbc-a7e2-4c5e-dcd9-ed841e59ad36"
   },
   "outputs": [
    {
     "name": "stdout",
     "output_type": "stream",
     "text": [
      "              precision    recall  f1-score   support\n",
      "\n",
      "           0       1.00      0.79      0.88     14256\n",
      "           1       0.05      0.75      0.10       220\n",
      "\n",
      "    accuracy                           0.79     14476\n",
      "   macro avg       0.52      0.77      0.49     14476\n",
      "weighted avg       0.98      0.79      0.87     14476\n",
      "\n",
      "---------------------------------------------------------------------------------------------------------------------------------------------\n",
      "accuracy 78.68886432716221\n",
      "precision 5.192367844854552\n",
      "recall 75.45454545454545\n",
      "f1 9.716125256072578\n"
     ]
    }
   ],
   "source": [
    "# IMPORTING SVC FROM sklearn\n",
    "from sklearn.svm import SVC\n",
    "svc = SVC(random_state=42,kernel=\"rbf\")\n",
    "svc.fit(X_train_OS, Y_train_OS)\n",
    "y_pred = svc.predict(X_test)\n",
    "print(classification_report(Y_test,y_pred))\n",
    "\n",
    "print('---------------------------------------------------------------------------------------------------------------------------------------------')\n",
    "print(\"accuracy\", accuracy_score(Y_test,y_pred)*100)\n",
    "print(\"precision\", precision_score(Y_test,y_pred)*100)\n",
    "print(\"recall\", recall_score(Y_test,y_pred)*100)\n",
    "print(\"f1\",f1_score(Y_test,y_pred)*100)"
   ]
  },
  {
   "cell_type": "markdown",
   "metadata": {
    "id": "30bqSMyEWPvj"
   },
   "source": [
    "# Training and test Data with SMOTE"
   ]
  },
  {
   "cell_type": "markdown",
   "metadata": {
    "id": "V7QTqA2dWPvj"
   },
   "source": [
    "1.Logistic Regression"
   ]
  },
  {
   "cell_type": "code",
   "execution_count": 118,
   "metadata": {
    "colab": {
     "base_uri": "https://localhost:8080/",
     "height": 0
    },
    "id": "lRkQQHvsWPvk",
    "outputId": "a126ef3c-149c-4e5c-f2e9-76e3959b61e3"
   },
   "outputs": [
    {
     "name": "stdout",
     "output_type": "stream",
     "text": [
      "              precision    recall  f1-score   support\n",
      "\n",
      "           0       1.00      0.77      0.87     14256\n",
      "           1       0.05      0.77      0.09       220\n",
      "\n",
      "    accuracy                           0.77     14476\n",
      "   macro avg       0.52      0.77      0.48     14476\n",
      "weighted avg       0.98      0.77      0.86     14476\n",
      "\n",
      "-------------------------------------------------------------------------------------------------------------------------------------------\n",
      "accuracy 77.26581928709588\n",
      "precision 4.983875696276751\n",
      "recall 77.27272727272727\n",
      "f1 9.363811622142661\n"
     ]
    }
   ],
   "source": [
    "# import Logistic Regression\n",
    "from sklearn.linear_model import LogisticRegression\n",
    "\n",
    "# define the classifier model\n",
    "lr_SMOTE = LogisticRegression(random_state = 42, max_iter = 400)\n",
    "lr_SMOTE.fit(X_train_SMOTE, Y_train_SMOTE)\n",
    "y_pred = lr_SMOTE.predict(X_test)\n",
    "# results tesing score\n",
    "print(classification_report(Y_test,y_pred))\n",
    "\n",
    "print('-------------------------------------------------------------------------------------------------------------------------------------------')\n",
    "print(\"accuracy\", accuracy_score(Y_test,y_pred)*100)\n",
    "print(\"precision\", precision_score(Y_test,y_pred)*100)\n",
    "print(\"recall\", recall_score(Y_test,y_pred)*100)\n",
    "print(\"f1\",f1_score(Y_test,y_pred)*100)\n",
    "\n"
   ]
  },
  {
   "cell_type": "markdown",
   "metadata": {
    "id": "6sQZntFBWPvk"
   },
   "source": [
    "2. RANDOM FOREST"
   ]
  },
  {
   "cell_type": "code",
   "execution_count": 119,
   "metadata": {
    "colab": {
     "base_uri": "https://localhost:8080/",
     "height": 0
    },
    "id": "dYso0ZCKWPvk",
    "outputId": "682e0bbb-a0a0-4d85-bece-7d22118bd28c"
   },
   "outputs": [
    {
     "name": "stdout",
     "output_type": "stream",
     "text": [
      "              precision    recall  f1-score   support\n",
      "\n",
      "           0       0.99      0.90      0.94     14256\n",
      "           1       0.07      0.48      0.12       220\n",
      "\n",
      "    accuracy                           0.89     14476\n",
      "   macro avg       0.53      0.69      0.53     14476\n",
      "weighted avg       0.98      0.89      0.93     14476\n",
      "\n",
      "---------------------------------------------------------------------------------------------------\n",
      "accuracy 89.38933407018513\n",
      "precision 6.8807339449541285\n",
      "recall 47.72727272727273\n",
      "f1 12.027491408934706\n"
     ]
    }
   ],
   "source": [
    "from sklearn.ensemble import RandomForestClassifier\n",
    "\n",
    "# define the classifier model\n",
    "rfc_SMOTE = RandomForestClassifier(random_state=42, bootstrap= True,  max_depth= 16) # adding random_state=42 to make this notebook's output constant\n",
    "rfc_SMOTE.fit(X_train_SMOTE, Y_train_SMOTE)\n",
    "y_pred = rfc_SMOTE.predict(X_test)\n",
    "# results tesing score\n",
    "print(classification_report(Y_test,y_pred))\n",
    "\n",
    "print('---------------------------------------------------------------------------------------------------')\n",
    "print(\"accuracy\", accuracy_score(Y_test,y_pred)*100)\n",
    "print(\"precision\", precision_score(Y_test,y_pred)*100)\n",
    "print(\"recall\", recall_score(Y_test,y_pred)*100)\n",
    "print(\"f1\",f1_score(Y_test,y_pred)*100)"
   ]
  },
  {
   "cell_type": "markdown",
   "metadata": {
    "id": "SbEGRMZ1WPvk"
   },
   "source": [
    "3. Decision tree"
   ]
  },
  {
   "cell_type": "code",
   "execution_count": 120,
   "metadata": {
    "colab": {
     "base_uri": "https://localhost:8080/",
     "height": 0
    },
    "id": "FCqQ3pSdWPvk",
    "outputId": "0b8bfbf8-e8a0-417f-9e1d-58af87b8909a"
   },
   "outputs": [
    {
     "name": "stdout",
     "output_type": "stream",
     "text": [
      "              precision    recall  f1-score   support\n",
      "\n",
      "           0       0.99      0.96      0.97     14256\n",
      "           1       0.04      0.10      0.06       220\n",
      "\n",
      "    accuracy                           0.95     14476\n",
      "   macro avg       0.51      0.53      0.52     14476\n",
      "weighted avg       0.97      0.95      0.96     14476\n",
      "\n",
      "---------------------------------------------------------------------------------------------------\n",
      "accuracy 94.78447084830064\n",
      "precision 3.9586919104991396\n",
      "recall 10.454545454545453\n",
      "f1 5.742821473158552\n"
     ]
    }
   ],
   "source": [
    "# import Decision Tree Classifier\n",
    "from sklearn.tree import DecisionTreeClassifier\n",
    "\n",
    "# define the classifier model\n",
    "dtc_SMOTE = DecisionTreeClassifier(random_state = 42)\n",
    "dtc_SMOTE.fit(X_train_SMOTE, Y_train_SMOTE)\n",
    "y_pred = dtc_SMOTE.predict(X_test)\n",
    "# results tesing score\n",
    "print(classification_report(Y_test,y_pred))\n",
    "\n",
    "print('---------------------------------------------------------------------------------------------------')\n",
    "print(\"accuracy\", accuracy_score(Y_test,y_pred)*100)\n",
    "print(\"precision\", precision_score(Y_test,y_pred)*100)\n",
    "print(\"recall\", recall_score(Y_test,y_pred)*100)\n",
    "print(\"f1\",f1_score(Y_test,y_pred)*100)"
   ]
  },
  {
   "cell_type": "markdown",
   "metadata": {
    "id": "2RKyV8MhWPvl"
   },
   "source": [
    "4. xgboost"
   ]
  },
  {
   "cell_type": "code",
   "execution_count": 121,
   "metadata": {
    "colab": {
     "base_uri": "https://localhost:8080/",
     "height": 0
    },
    "id": "rlg-W1apWPvl",
    "outputId": "ad14c689-a108-44d7-9417-b3b83a69e641"
   },
   "outputs": [
    {
     "name": "stdout",
     "output_type": "stream",
     "text": [
      "              precision    recall  f1-score   support\n",
      "\n",
      "           0       0.99      0.83      0.90     14256\n",
      "           1       0.06      0.70      0.11       220\n",
      "\n",
      "    accuracy                           0.82     14476\n",
      "   macro avg       0.53      0.76      0.51     14476\n",
      "weighted avg       0.98      0.82      0.89     14476\n",
      "\n",
      "------------------------------------------------\n",
      "accuracy 82.42608455374413\n",
      "precision 5.851063829787234\n",
      "recall 70.0\n",
      "f1 10.799438990182326\n"
     ]
    }
   ],
   "source": [
    "# import XGB Classifier\n",
    "import xgboost as xgb\n",
    "from xgboost import XGBClassifier\n",
    "\n",
    "# define the classifier model\n",
    "xgbc_SMOTE = XGBClassifier(random_state=42)\n",
    "xgbc_SMOTE.fit(X_train_SMOTE, Y_train_SMOTE)\n",
    "y_pred = xgbc_OS.predict(X_test)\n",
    "# results tesing score\n",
    "print(classification_report(Y_test,y_pred))\n",
    "\n",
    "print('------------------------------------------------')\n",
    "print(\"accuracy\", accuracy_score(Y_test,y_pred)*100)\n",
    "print(\"precision\", precision_score(Y_test,y_pred)*100)\n",
    "print(\"recall\", recall_score(Y_test,y_pred)*100)\n",
    "print(\"f1\",f1_score(Y_test,y_pred)*100)"
   ]
  },
  {
   "cell_type": "markdown",
   "metadata": {
    "id": "2WKM5si3WPvl"
   },
   "source": [
    "5. SVM"
   ]
  },
  {
   "cell_type": "code",
   "execution_count": 122,
   "metadata": {
    "colab": {
     "base_uri": "https://localhost:8080/",
     "height": 0
    },
    "id": "yLtQImouWPvl",
    "outputId": "d5bf0511-c778-402c-f7af-f9988273e437"
   },
   "outputs": [
    {
     "name": "stdout",
     "output_type": "stream",
     "text": [
      "              precision    recall  f1-score   support\n",
      "\n",
      "           0       0.99      0.81      0.89     14256\n",
      "           1       0.05      0.72      0.10       220\n",
      "\n",
      "    accuracy                           0.81     14476\n",
      "   macro avg       0.52      0.76      0.50     14476\n",
      "weighted avg       0.98      0.81      0.88     14476\n",
      "\n",
      "------------------------------------------------\n",
      "accuracy 80.78198397347333\n",
      "precision 5.489923558026407\n",
      "recall 71.81818181818181\n",
      "f1 10.200129115558424\n"
     ]
    }
   ],
   "source": [
    "#HARD SAMPLING\n",
    "lin=LinearSVC(random_state=50)\n",
    "lin.fit(X_train_SMOTE, Y_train_SMOTE)\n",
    "y_pred = lin.predict(X_test)\n",
    "print(classification_report(Y_test,y_pred))\n",
    "print('------------------------------------------------')\n",
    "print(\"accuracy\", accuracy_score(Y_test,y_pred)*100)\n",
    "print(\"precision\", precision_score(Y_test,y_pred)*100)\n",
    "print(\"recall\", recall_score(Y_test,y_pred)*100)\n",
    "print(\"f1\",f1_score(Y_test,y_pred)*100)"
   ]
  },
  {
   "cell_type": "code",
   "execution_count": 123,
   "metadata": {
    "colab": {
     "base_uri": "https://localhost:8080/",
     "height": 0
    },
    "id": "GenFu2IYWPvl",
    "outputId": "b99f95ca-46ea-46da-de5c-ca24eb5e194a"
   },
   "outputs": [
    {
     "name": "stdout",
     "output_type": "stream",
     "text": [
      "              precision    recall  f1-score   support\n",
      "\n",
      "           0       0.99      0.81      0.89     14256\n",
      "           1       0.05      0.72      0.10       220\n",
      "\n",
      "    accuracy                           0.81     14476\n",
      "   macro avg       0.52      0.76      0.50     14476\n",
      "weighted avg       0.98      0.81      0.88     14476\n",
      "\n",
      "----------------------------------------------------------------------------------------------------------------------------------------------\n",
      "accuracy 80.78198397347333\n",
      "precision 5.489923558026407\n",
      "recall 71.81818181818181\n",
      "f1 10.200129115558424\n"
     ]
    }
   ],
   "source": [
    "# SOFT MARGIN\n",
    "lin2=LinearSVC(C=0.4,random_state=42)\n",
    "lin2.fit(X_train_SMOTE, Y_train_SMOTE)\n",
    "y_pred2 = lin2.predict(X_test)\n",
    "print(classification_report(Y_test,y_pred))\n",
    "print('----------------------------------------------------------------------------------------------------------------------------------------------')\n",
    "print(\"accuracy\", accuracy_score(Y_test,y_pred)*100)\n",
    "print(\"precision\", precision_score(Y_test,y_pred)*100)\n",
    "print(\"recall\", recall_score(Y_test,y_pred)*100)\n",
    "print(\"f1\",f1_score(Y_test,y_pred)*100)"
   ]
  },
  {
   "cell_type": "markdown",
   "metadata": {
    "id": "9E8o0L2cWPvl"
   },
   "source": [
    "5.1 SVM POLY"
   ]
  },
  {
   "cell_type": "code",
   "execution_count": 124,
   "metadata": {
    "colab": {
     "base_uri": "https://localhost:8080/",
     "height": 0
    },
    "id": "g3Re5RhHWPvm",
    "outputId": "3c2c1b30-ee04-4f3c-8694-e0b3fb7c8baa"
   },
   "outputs": [
    {
     "name": "stdout",
     "output_type": "stream",
     "text": [
      "              precision    recall  f1-score   support\n",
      "\n",
      "           0       0.99      0.83      0.90     14256\n",
      "           1       0.06      0.69      0.11       220\n",
      "\n",
      "    accuracy                           0.83     14476\n",
      "   macro avg       0.53      0.76      0.51     14476\n",
      "weighted avg       0.98      0.83      0.89     14476\n",
      "\n",
      "---------------------------------------------------------------------------------------------------------------------------------------------\n",
      "accuracy 82.7162199502625\n",
      "precision 5.877803557617943\n",
      "recall 69.0909090909091\n",
      "f1 10.833927298645758\n"
     ]
    }
   ],
   "source": [
    "# IMPORTING SVC FROM sklearn\n",
    "from sklearn.svm import SVC\n",
    "svc = SVC(random_state=42,kernel=\"poly\")\n",
    "svc.fit(X_train_SMOTE, Y_train_SMOTE)\n",
    "y_pred = svc.predict(X_test)\n",
    "print(classification_report(Y_test,y_pred))\n",
    "\n",
    "print('---------------------------------------------------------------------------------------------------------------------------------------------')\n",
    "print(\"accuracy\", accuracy_score(Y_test,y_pred)*100)\n",
    "print(\"precision\", precision_score(Y_test,y_pred)*100)\n",
    "print(\"recall\", recall_score(Y_test,y_pred)*100)\n",
    "print(\"f1\",f1_score(Y_test,y_pred)*100)"
   ]
  },
  {
   "cell_type": "markdown",
   "metadata": {
    "id": "fjyveb5zWPvm"
   },
   "source": [
    "5.2 SVM RBF"
   ]
  },
  {
   "cell_type": "code",
   "execution_count": 125,
   "metadata": {
    "colab": {
     "base_uri": "https://localhost:8080/",
     "height": 0
    },
    "id": "2xbgta_EWPvm",
    "outputId": "b9e39eb3-e419-426d-9611-92e99df977bc"
   },
   "outputs": [
    {
     "name": "stdout",
     "output_type": "stream",
     "text": [
      "              precision    recall  f1-score   support\n",
      "\n",
      "           0       0.99      0.80      0.89     14256\n",
      "           1       0.05      0.72      0.10       220\n",
      "\n",
      "    accuracy                           0.80     14476\n",
      "   macro avg       0.52      0.76      0.49     14476\n",
      "weighted avg       0.98      0.80      0.87     14476\n",
      "\n",
      "---------------------------------------------------------------------------------------------------------------------------------------------\n",
      "accuracy 79.81486598507875\n",
      "precision 5.264900662251656\n",
      "recall 72.27272727272728\n",
      "f1 9.814814814814815\n"
     ]
    }
   ],
   "source": [
    "svc = SVC(random_state=42,kernel=\"rbf\")\n",
    "svc.fit(X_train_SMOTE, Y_train_SMOTE)\n",
    "y_pred = svc.predict(X_test)\n",
    "print(classification_report(Y_test,y_pred))\n",
    "\n",
    "print('---------------------------------------------------------------------------------------------------------------------------------------------')\n",
    "print(\"accuracy\", accuracy_score(Y_test,y_pred)*100)\n",
    "print(\"precision\", precision_score(Y_test,y_pred)*100)\n",
    "print(\"recall\", recall_score(Y_test,y_pred)*100)\n",
    "print(\"f1\",f1_score(Y_test,y_pred)*100)"
   ]
  },
  {
   "cell_type": "markdown",
   "metadata": {
    "id": "egLoDvaCWPvm"
   },
   "source": [
    "# MODEL PERFORMANCE"
   ]
  },
  {
   "cell_type": "markdown",
   "metadata": {
    "id": "kHR1tCvVWPvm"
   },
   "source": [
    "### 1. UNDER SAMPLING"
   ]
  },
  {
   "cell_type": "code",
   "execution_count": 19,
   "metadata": {
    "colab": {
     "base_uri": "https://localhost:8080/",
     "height": 265
    },
    "id": "l6g1g4Mi_G9u",
    "outputId": "8b268a9f-76e2-4070-83e3-a0f762e6315c"
   },
   "outputs": [],
   "source": [
    "model = ['Logistic Regression','Random Forest','Decision Tree','XGBoost','SVM', 'SVM POLY','SVM RBF']\n",
    "Recall = [78.18,74.75,67.27,74.09,75.90,70.0,71.30]\n",
    "Accuracy = [76.65,70.09,65.34,77.77,77.77,81.92,78.97]\n",
    "\n",
    "df_complete_test = pd.DataFrame({'Model':model,'Recall Score Test': Recall,\"Accuracy score\":Accuracy})\n",
    "\n",
    "df_complete_test\n",
    "df_complete_test.to_csv('undersampling.csv')"
   ]
  },
  {
   "cell_type": "code",
   "execution_count": 133,
   "metadata": {
    "colab": {
     "base_uri": "https://localhost:8080/",
     "height": 513
    },
    "id": "fVgcHU6U_nxh",
    "outputId": "6111f4af-da5d-4024-b45f-82b27f61e333"
   },
   "outputs": [
    {
     "data": {
      "image/png": "[encoded data removed]",
      "text/plain": [
       "<Figure size 720x576 with 1 Axes>"
      ]
     },
     "metadata": {
      "needs_background": "light",
      "tags": []
     },
     "output_type": "display_data"
    }
   ],
   "source": [
    "ax = df_complete_test.plot.barh(figsize=(10,8));\n",
    "ax.set(xlabel=\"Recall Score Test\", ylabel=\"Models\", title='Model Comparison on Test set');"
   ]
  },
  {
   "cell_type": "markdown",
   "metadata": {
    "id": "HDEBr4WdWPvn"
   },
   "source": [
    "### 2. OVER SAMPLING"
   ]
  },
  {
   "cell_type": "code",
   "execution_count": 20,
   "metadata": {
    "colab": {
     "base_uri": "https://localhost:8080/",
     "height": 265
    },
    "id": "q_r9ZNsLWPvn",
    "outputId": "9f762f99-eb12-43b1-aa1c-aec1f6b9bff3"
   },
   "outputs": [],
   "source": [
    "model = ['Logistic Regression','Random Forest','Decision Tree','XGBoost','SVM', 'SVM POLY','SVM RBF']\n",
    "Recall = [75.0,3.36,6.36,70.0,74.09,72.27,75.45]\n",
    "Accuracy = [80.22,97.66,96.76,82.42,81.58,81.74,78.68]\n",
    "\n",
    "df_complete_test = pd.DataFrame({'Model':model,'Rcall Score Test': Recall,\"Accuracy score\":Accuracy})\n",
    "\n",
    "df_complete_test\n",
    "df_complete_test.to_csv('oversampling.csv')"
   ]
  },
  {
   "cell_type": "code",
   "execution_count": 135,
   "metadata": {
    "colab": {
     "base_uri": "https://localhost:8080/",
     "height": 513
    },
    "id": "UOSVjNCVAMtd",
    "outputId": "1749cccf-a0c8-40de-be72-51bfb6bdfe33"
   },
   "outputs": [
    {
     "data": {
      "image/png": "[encoded data removed]",
      "text/plain": [
       "<Figure size 720x576 with 1 Axes>"
      ]
     },
     "metadata": {
      "needs_background": "light",
      "tags": []
     },
     "output_type": "display_data"
    }
   ],
   "source": [
    "ax = df_complete_test.plot.barh(figsize=(10,8));\n",
    "ax.set(xlabel=\"Recall Score Test\", ylabel=\"Models\", title='Model Comparison on Test set');"
   ]
  },
  {
   "cell_type": "markdown",
   "metadata": {
    "id": "7EL_3fhEWPvn"
   },
   "source": [
    "### 3. SMOTE"
   ]
  },
  {
   "cell_type": "code",
   "execution_count": 21,
   "metadata": {
    "colab": {
     "base_uri": "https://localhost:8080/",
     "height": 265
    },
    "id": "VDQxRwo-WPvn",
    "outputId": "0ce64b58-f627-476a-8468-cebfaf9f1201"
   },
   "outputs": [],
   "source": [
    "model = ['Logistic Regression','Random Forest','Decision Tree','XGBoost','SVM', 'SVM POLY','SVM RBF']\n",
    "Recall = [77.27,47.27,10.45,70.0,71.81,69.0,72.27]\n",
    "Accuracy = [77.77,89.38,94.74,82.42,80.78,82.71,79.81]\n",
    "\n",
    "df_complete_test = pd.DataFrame({'Model':model,'Rcall Score Test': Recall,\"Accuracy score\":Accuracy})\n",
    "\n",
    "df_complete_test\n",
    "df_complete_test.to_csv('SMOTEsampling.csv')"
   ]
  },
  {
   "cell_type": "code",
   "execution_count": 137,
   "metadata": {
    "colab": {
     "base_uri": "https://localhost:8080/",
     "height": 513
    },
    "id": "tCqR3Jd3WPvn",
    "outputId": "65b6e9e0-dff3-4658-9e88-96cddb924daa"
   },
   "outputs": [
    {
     "data": {
      "image/png": "[encoded data removed]",
      "text/plain": [
       "<Figure size 720x576 with 1 Axes>"
      ]
     },
     "metadata": {
      "needs_background": "light",
      "tags": []
     },
     "output_type": "display_data"
    }
   ],
   "source": [
    "ax = df_complete_test.plot.barh(figsize=(10,8));\n",
    "ax.set(xlabel=\"Recall Score Test\", ylabel=\"Models\", title='Model Comparison on Test set');"
   ]
  },
  {
   "cell_type": "code",
   "execution_count": null,
   "metadata": {
    "id": "vnX0dXLKAYLn"
   },
   "outputs": [],
   "source": []
  }
 ],
 "metadata": {
  "accelerator": "GPU",
  "colab": {
   "collapsed_sections": [],
   "name": "final model .ipynb",
   "provenance": []
  },
  "kernelspec": {
   "display_name": "Python 3",
   "language": "python",
   "name": "python3"
  },
  "language_info": {
   "codemirror_mode": {
    "name": "ipython",
    "version": 3
   },
   "file_extension": ".py",
   "mimetype": "text/x-python",
   "name": "python",
   "nbconvert_exporter": "python",
   "pygments_lexer": "ipython3",
   "version": "3.8.8"
  }
 },
 "nbformat": 4,
 "nbformat_minor": 4
}
